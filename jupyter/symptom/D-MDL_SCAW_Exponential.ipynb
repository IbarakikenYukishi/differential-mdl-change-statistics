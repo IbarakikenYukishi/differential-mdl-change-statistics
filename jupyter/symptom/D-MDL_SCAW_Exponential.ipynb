{
 "cells": [
  {
   "cell_type": "code",
   "execution_count": 1,
   "metadata": {},
   "outputs": [],
   "source": [
    "import sys\n",
    "import os\n",
    "sys.path.append('../../')\n",
    "import matplotlib.pyplot as plt\n",
    "import matplotlib.dates as mdates\n",
    "import matplotlib.ticker as ticker\n",
    "import numpy as np\n",
    "import mdlcstat_adwin1\n",
    "from functools import partial\n",
    "%matplotlib inline\n",
    "import pandas as pd\n",
    "import datetime as dt\n",
    "from copy import deepcopy"
   ]
  },
  {
   "cell_type": "code",
   "execution_count": 2,
   "metadata": {},
   "outputs": [],
   "source": [
    "def preprocessing(ctr):#prepare data\n",
    "    \"\"\"\n",
    "    Return a dataframe that contains date and logarithm of cumulative cases in a country.\n",
    "    \n",
    "    parameters:\n",
    "        ctr: country name\n",
    "    \n",
    "    returns:\n",
    "        dataframe with date and logarithm of cumulative cases\n",
    "    \"\"\"\n",
    "    df=pd.read_csv('../../data/covid_data.csv')\n",
    "    df=df[df[\"countriesAndTerritories\"]==ctr][[\"dateRep\", \"cases\"]]\n",
    "    df[\"dateRep\"]=pd.to_datetime(df[\"dateRep\"], format=\"%d/%m/%Y\")\n",
    "    df=df.sort_values(\"dateRep\").reset_index(drop=True)\n",
    "    df.columns=[\"date\", ctr]\n",
    "\n",
    "    df[ctr]=df[ctr].cumsum()\n",
    "    df=df[df[ctr]>0] \n",
    "    df=df.reset_index(drop=True)\n",
    "    df[ctr]=np.log(df[ctr])\n",
    "\n",
    "    deadline=pd.to_datetime(\"2020-4-30\")\n",
    "    df=df[df[\"date\"]<=deadline].reset_index(drop=True)\n",
    "        \n",
    "    return df"
   ]
  },
  {
   "cell_type": "code",
   "execution_count": 3,
   "metadata": {},
   "outputs": [],
   "source": [
    "def calculate_alpha(params):# adjust alpha\n",
    "    \"\"\"\n",
    "    Calculate upper-bounds of hypothesis testings given by 1st and 2nd from data.\n",
    "    \n",
    "    parameters:\n",
    "        params: hyperparameters for calculating LNML of Gaussian\n",
    "    \n",
    "    returns:\n",
    "        alpha_1, alpha_2\n",
    "    \"\"\"\n",
    "    country=\"Japan\"\n",
    "    df=preprocessing(country)\n",
    "    events=[pd.to_datetime('2020/2/27')]\n",
    "    lnml_gaussian=partial(mdlcstat_adwin1.lnml_gaussian, sigma_given=params['sigma_given']) \n",
    "    batch_adwin1 = mdlcstat_adwin1.batch(lossfunc=lnml_gaussian,d=2,alpha=1,delta=0.05,how_to_drop='all', preprocess=True)\n",
    "\n",
    "    ret_window, cut, mdl_0, mdl_1, mdl_2, alarm_0_p, alarm_0_m, alarm_1, alarm_2 = batch_adwin1.decision_function(np.array(df[country]))\n",
    "    \n",
    "    event_at=len(df[df['date']<events[0]])\n",
    "    dif_1=0\n",
    "    dif_2=0\n",
    "    \n",
    "    if np.isnan(mdl_1[event_at])==False:\n",
    "        dif_1=0\n",
    "    else:\n",
    "        abs_dif=1\n",
    "        while True:\n",
    "            stat_p=mdl_1[event_at+abs_dif]\n",
    "            stat_m=mdl_1[event_at-abs_dif]\n",
    "            \n",
    "            if np.isnan(stat_p)==True and np.isnan(stat_m)==True:\n",
    "                abs_dif+=1\n",
    "                continue\n",
    "            elif np.isnan(stat_p)==False and np.isnan(stat_m)==False:\n",
    "                if stat_p>stat_m:\n",
    "                    dif_1=abs_dif\n",
    "                    break\n",
    "                else:\n",
    "                    dif_1=-abs_dif\n",
    "                    break\n",
    "            else:\n",
    "                if np.isnan(stat_p)==False:\n",
    "                    dif_1=abs_dif\n",
    "                    break\n",
    "                else:\n",
    "                    dif_1=-abs_dif\n",
    "                    break\n",
    "\n",
    "    if np.isnan(mdl_2[event_at])==False:\n",
    "        dif_2=0\n",
    "    else:\n",
    "        abs_dif=1\n",
    "        while True:\n",
    "            stat_p=mdl_2[event_at+abs_dif]\n",
    "            stat_m=mdl_2[event_at-abs_dif]\n",
    "            \n",
    "            if np.isnan(stat_p)==True and np.isnan(stat_m)==True:#どっちもnan\n",
    "                abs_dif+=1\n",
    "                continue\n",
    "            elif np.isnan(stat_p)==False and np.isnan(stat_m)==False:\n",
    "                if stat_p>stat_m:\n",
    "                    dif_2=abs_dif\n",
    "                    break\n",
    "                else:\n",
    "                    dif_2=-abs_dif\n",
    "                    break\n",
    "            else:\n",
    "                if np.isnan(stat_p)==False:\n",
    "                    dif_2=abs_dif\n",
    "                    break\n",
    "                else:\n",
    "                    dif_2=-abs_dif\n",
    "                    break\n",
    "                    \n",
    "    if ret_window[event_at+dif_1]==0:\n",
    "        win_1=ret_window[event_at+dif_1-1]+1\n",
    "    else:\n",
    "        win_1=ret_window[event_at+dif_1]\n",
    "        \n",
    "    if ret_window[event_at+dif_2]==0:\n",
    "        win_2=ret_window[event_at+dif_2-1]+1\n",
    "    else:\n",
    "        win_2=ret_window[event_at+dif_2]\n",
    "        \n",
    "    alpha_1=np.exp(2*np.log(win_1/2)-mdl_1[event_at])\n",
    "    alpha_2=np.exp(2*np.log(win_2/2)-mdl_2[event_at]/2)    \n",
    "    \n",
    "    # if alpha exceeds 1, set them 0.99.\n",
    "    if alpha_1>1:\n",
    "        alpha_1=0.99\n",
    "    if alpha_2>1:\n",
    "        alpha_2=0.99\n",
    "    \n",
    "    return alpha_1, alpha_2\n"
   ]
  },
  {
   "cell_type": "code",
   "execution_count": 4,
   "metadata": {},
   "outputs": [],
   "source": [
    "def country_graph(country, events, params):\n",
    "    \"\"\"\n",
    "    Plot a graphs for each country.\n",
    "    parameters:\n",
    "        country: country name\n",
    "        events: date of events for enforcement of social distancing\n",
    "        params: hyperparameters for calculating statistics\n",
    "    \"\"\"\n",
    "    if country == \"Korea, South\":\n",
    "        ctr=\"South_Korea\"\n",
    "        printctr=\"South Korea\"\n",
    "    elif country == \"US\":\n",
    "        ctr=\"United_States_of_America\"\n",
    "        printctr=\"United States of America\"\n",
    "    elif country==\"Saudi Arabia\":\n",
    "        ctr=\"Saudi_Arabia\"\n",
    "        printctr=\"Saudi Arabia\"\n",
    "    elif country==\"United Arab Emirates\":\n",
    "        ctr=\"United_Arab_Emirates\"\n",
    "        printctr=\"United Arab Emirates\"\n",
    "    elif country==\"United Kingdom\":\n",
    "        ctr=\"United_Kingdom\"\n",
    "        printctr=\"United Kingdom\"\n",
    "    else:\n",
    "        ctr=country\n",
    "        printctr=country\n",
    "    \n",
    "    #data preprocessing\n",
    "    df=preprocessing(ctr)\n",
    "            \n",
    "    alpha_1=params[\"alpha_1\"]\n",
    "    alpha_2=params[\"alpha_2\"]\n",
    "   \n",
    "    lnml_gaussian=partial(mdlcstat_adwin1.lnml_gaussian, sigma_given=params['sigma_given']) \n",
    "    #calculate statistics with tuned alpha\n",
    "    batch_adwin1 = mdlcstat_adwin1.batch(lossfunc=lnml_gaussian,d=2,alpha=alpha_1,delta=0.05,how_to_drop='all', preprocess=True)\n",
    "    ret_window, cut, mdl_0, mdl_1, _, alarm_0_p, alarm_0_m, alarm_1, _ =batch_adwin1.decision_function(np.array(df[ctr]))\n",
    "    batch_adwin1 = mdlcstat_adwin1.batch(lossfunc=lnml_gaussian,d=2,alpha=alpha_2,delta=0.05,how_to_drop='all', preprocess=True)\n",
    "    _, _, _, _, mdl_2, _, _, _, alarm_2 =batch_adwin1.decision_function(np.array(df[ctr]))    \n",
    "\n",
    "    alarm_0=np.r_[alarm_0_p,alarm_0_m]\n",
    "    alarm_0=np.sort(alarm_0)\n",
    "    \n",
    "    cut=cut[np.where(cut!=-1)]\n",
    "    for i in range(len(cut)):\n",
    "        if i!=0:\n",
    "            cut[i]+=alarm_0[i-1]+1\n",
    "\n",
    "    alarm_0_index=deepcopy(alarm_0)\n",
    "    alarm_1_index=deepcopy(alarm_1)\n",
    "    alarm_2_index=deepcopy(alarm_2)\n",
    "    \n",
    "    alarm_0=df['date'][alarm_0].reset_index(drop=True)\n",
    "    alarm_0_p=df['date'][alarm_0_p].reset_index(drop=True)  \n",
    "    alarm_0_m=df['date'][alarm_0_m].reset_index(drop=True)\n",
    "    alarm_1=df['date'][alarm_1].reset_index(drop=True)\n",
    "    alarm_2=df['date'][alarm_2].reset_index(drop=True)\n",
    "    cut=df['date'][cut].reset_index(drop=True)\n",
    "    \n",
    "    print('date for alarms of 0th D-MDL')\n",
    "    print(alarm_0)\n",
    "    print('cutpoint')\n",
    "    print(cut)\n",
    "    \n",
    "    plt.rc('font', size=36) \n",
    "    plt.rc('xtick', labelsize=36)    \n",
    "    plt.rc('ytick', labelsize=36)\n",
    "\n",
    "    #plot data\n",
    "    #0th D-MDL\n",
    "    plt.clf()\n",
    "    plt.figure(figsize=(28,10))\n",
    "\n",
    "    plt.gca().xaxis.set_major_formatter(mdates.DateFormatter('%Y-%m-%d'))\n",
    "    plt.gca().xaxis.set_major_locator(mdates.DayLocator(interval=5))\n",
    "    plt.plot(df['date'], mdl_0/np.nanmax(mdl_0)) ## dates in datetime format and change scores\n",
    "    plt.gcf().autofmt_xdate()\n",
    "    plt.title(printctr)\n",
    "    plt.ylabel('0th D-MDL change score')\n",
    "\n",
    "    ##for marking changes \n",
    "    for p_index in alarm_0_index:\n",
    "        plt.vlines(df['date'][p_index], ymin=0, ymax=mdl_0[p_index]/np.nanmax(mdl_0), color='r', linestyle='--')\n",
    "\n",
    "    ## for making social distancing event   \n",
    "    plt.vlines(events, ymin=0, ymax=1.1, color='black', linestyle='-',linewidth=2)\n",
    "    plt.text(events, 0.8, 'Social distancing', color='black')\n",
    "\n",
    "    plt.ylim(0,1.1)\n",
    "    plt.rc('font', size=36) \n",
    "    plt.rc('xtick', labelsize=36)    \n",
    "    plt.rc('ytick', labelsize=36)\n",
    "    plt.tight_layout()\n",
    "    plt.savefig('../../figs/'+country+'_0_score.eps')\n",
    "    \n",
    "    #1st D-MDL\n",
    "    plt.clf()\n",
    "    plt.figure(figsize=(28,10))\n",
    "\n",
    "    plt.gca().xaxis.set_major_formatter(mdates.DateFormatter('%Y-%m-%d'))\n",
    "    plt.gca().xaxis.set_major_locator(mdates.DayLocator(interval=5))\n",
    "    plt.plot(df['date'], mdl_1/np.nanmax(mdl_1)) ## dates in datetime format and change scores\n",
    "    plt.gcf().autofmt_xdate()\n",
    "    plt.title(printctr)\n",
    "    plt.ylabel('1st D-MDL change score')\n",
    "\n",
    "    ##for marking signs of changes \n",
    "    for p_index in alarm_1_index:\n",
    "        plt.vlines(df['date'][p_index], ymin=0, ymax=mdl_1[p_index]/np.nanmax(mdl_1), color='r', linestyle='--')\n",
    "\n",
    "    ## for making social distancing event   \n",
    "    plt.vlines(events, ymin=0, ymax=1.1, color='black', linestyle='-',linewidth=2)\n",
    "    plt.text(events, 0.8, 'Social distancing', color='black')\n",
    "\n",
    "    plt.ylim(0,1.1)\n",
    "    plt.rc('font', size=36) \n",
    "    plt.rc('xtick', labelsize=36)    \n",
    "    plt.rc('ytick', labelsize=36)\n",
    "    plt.tight_layout()\n",
    "    plt.savefig('../../figs/'+country+'_1_score.eps')\n",
    "     \n",
    "    #2nd D-MDL\n",
    "    plt.clf()\n",
    "    plt.figure(figsize=(28,10))\n",
    "\n",
    "    plt.gca().xaxis.set_major_formatter(mdates.DateFormatter('%Y-%m-%d'))\n",
    "    plt.gca().xaxis.set_major_locator(mdates.DayLocator(interval=5))\n",
    "    plt.plot(df['date'], mdl_2/np.nanmax(mdl_2)) ## dates in datetime format and change scores\n",
    "    plt.gcf().autofmt_xdate()\n",
    "    plt.title(printctr)\n",
    "    plt.ylabel('2nd D-MDL change score')\n",
    "\n",
    "    ##for marking signs of changes \n",
    "    for p_index in alarm_2_index:\n",
    "        plt.vlines(df['date'][p_index], ymin=0, ymax=mdl_2[p_index]/np.nanmax(mdl_2), color='r', linestyle='--')\n",
    "\n",
    "    ## for making social distancing event   \n",
    "    plt.vlines(events, ymin=0, ymax=1.1, color='black', linestyle='-',linewidth=2)\n",
    "    plt.text(events, 0.8, 'Social distancing', color='black')\n",
    "\n",
    "    plt.ylim(0,1.1)\n",
    "    plt.rc('font', size=36) \n",
    "    plt.rc('xtick', labelsize=36)    \n",
    "    plt.rc('ytick', labelsize=36)\n",
    "    plt.tight_layout()\n",
    "    plt.savefig('../../figs/'+country+'_2_score.eps')\n",
    "    \n",
    "    #cases\n",
    "    plt.clf()\n",
    "    plt.figure(figsize=(28,10))\n",
    "\n",
    "    plt.gca().xaxis.set_major_formatter(mdates.DateFormatter('%Y-%m-%d'))\n",
    "    plt.gca().xaxis.set_major_locator(mdates.DayLocator(interval=5))\n",
    "    plt.plot(df['date'], np.exp(df[ctr]))## dates in datetime format and change scores\n",
    "    plt.gcf().autofmt_xdate()\n",
    "    plt.yscale('log')\n",
    "    plt.title(printctr)\n",
    "    plt.ylabel('Cumulative cases')\n",
    "\n",
    "    ## for making social distancing event   \n",
    "    plt.vlines(events, ymin=0, ymax=max(np.exp(df[ctr]))*1.1, color='black', linestyle='-',linewidth=2)\n",
    "    plt.text(events, 0.8, 'Social distancing', color='black')\n",
    "\n",
    "    #plt.ylim(0,max(df[country])*1.1)\n",
    "    plt.rc('font', size=36) \n",
    "    plt.rc('xtick', labelsize=36)    \n",
    "    plt.rc('ytick', labelsize=36)\n",
    "    plt.tight_layout()\n",
    "    plt.savefig('../../figs/'+country+'_case.eps')\n",
    "\n",
    "    df_window=pd.DataFrame({'date': df['date'].values, 'window': ret_window})\n",
    "    df_supplementary=pd.DataFrame({'date': df['date'][alarm_0_index].values, 'window': ret_window[alarm_0_index-1]+1})\n",
    "    df_concat=pd.concat([df_window, df_supplementary], axis=0)\n",
    "    df_concat=df_concat.sort_values(['date','window'], ascending=[False, True])\n",
    "    \n",
    "    #window size\n",
    "    plt.clf()\n",
    "    plt.figure(figsize=(28,10))\n",
    "\n",
    "    plt.gca().xaxis.set_major_formatter(mdates.DateFormatter('%Y-%m-%d'))\n",
    "    plt.gca().xaxis.set_major_locator(mdates.DayLocator(interval=5))\n",
    "    plt.plot(df_concat['date'], df_concat['window'])\n",
    "    plt.gcf().autofmt_xdate()\n",
    "    plt.title(printctr)\n",
    "    plt.ylabel('Window size')\n",
    "\n",
    "    ##for marking changes \n",
    "    for p_index in alarm_0_index:\n",
    "        plt.vlines(df['date'][p_index], ymin=0, ymax=max(40, np.nanmax(ret_window)*1.1)*1.1, color='r', linestyle='-')\n",
    "\n",
    "    ## for making social distancing event   \n",
    "    plt.vlines(events, ymin=0, ymax=max(40, np.nanmax(ret_window)*1.1)*1.1, color='black', linestyle='-',linewidth=2)\n",
    "    plt.text(events, 0.8, 'Social distancing', color='black')\n",
    "\n",
    "    plt.ylim(0,max(40, np.nanmax(ret_window)*1.1))\n",
    "    plt.rc('font', size=36) \n",
    "    plt.rc('xtick', labelsize=36)    \n",
    "    plt.rc('ytick', labelsize=36)\n",
    "    plt.tight_layout()\n",
    "    plt.savefig('../../figs/'+country+'_window_size.eps')\n"
   ]
  },
  {
   "cell_type": "code",
   "execution_count": 5,
   "metadata": {},
   "outputs": [],
   "source": [
    "countries=[\"Austria\", \"Belarus\", \"Belgium\", \"Brazil\", \"Canada\", \"Chile\", \"China\", \"Ecuador\",\n",
    "          \"France\", \"Germany\", \"India\", \"Indonesia\", \"Iran\",  \"Ireland\", \"Israel\", \"Italy\", \"Japan\", \"Mexico\",\n",
    "          \"Netherlands\", \"Pakistan\", \"Peru\", \"Poland\", \"Portugal\", \"Qatar\", \"Romania\", \"Russia\",\n",
    "          \"Saudi Arabia\", \"Singapore\", \"Korea, South\", \"Spain\", \"Sweden\", \"Switzerland\", \"Turkey\",\n",
    "          \"United Arab Emirates\", \"Ukraine\", \"United Kingdom\", \"US\"]\n",
    "\n",
    "events_Austria=[pd.to_datetime('2020/3/16')]\n",
    "events_Belarus=[pd.to_datetime('2020/4/9')]\n",
    "events_Belgium=[pd.to_datetime('2020/3/18')]\n",
    "events_Brazil=[pd.to_datetime('2020/3/24')]\n",
    "events_Canada=[pd.to_datetime('2020/3/17')]\n",
    "events_Chile=[pd.to_datetime('2020/3/26')]\n",
    "events_China=[pd.to_datetime('2020/1/23')]\n",
    "events_Ecuador=[pd.to_datetime('2020/3/16')]\n",
    "events_France=[pd.to_datetime('2020/3/17')]\n",
    "events_Germany=[pd.to_datetime('2020/3/16')]\n",
    "events_India=[pd.to_datetime('2020/3/25')]\n",
    "events_Indonesia=[pd.to_datetime('2020/4/6')]\n",
    "events_Iran=[pd.to_datetime('2020/3/24')]\n",
    "events_Ireland=[pd.to_datetime('2020/3/12')]\n",
    "events_Israel=[pd.to_datetime('2020/3/15')]\n",
    "events_Italy=[pd.to_datetime('2020/3/9')]\n",
    "events_Japan=[pd.to_datetime('2020/4/7')]\n",
    "events_Mexico=[pd.to_datetime('2020/3/23')]\n",
    "events_Netherlands=[pd.to_datetime('2020/3/15')]\n",
    "events_Pakistan=[pd.to_datetime('2020/3/24')]\n",
    "events_Peru=[pd.to_datetime('2020/3/16')]\n",
    "events_Poland=[pd.to_datetime('2020/3/24')]\n",
    "events_Portugal=[pd.to_datetime('2020/3/19')]\n",
    "events_Qatar=[pd.to_datetime('2020/3/23')]\n",
    "events_Romania=[pd.to_datetime('2020/3/23')]\n",
    "events_Russia=[pd.to_datetime('2020/3/30')]\n",
    "events_Saudi_Arabia=[pd.to_datetime('2020/3/24')]\n",
    "events_Singapore=[pd.to_datetime('2020/4/7')]\n",
    "events_South_Korea=[pd.to_datetime('2020/2/25')]\n",
    "events_Spain=[pd.to_datetime('2020/3/13')]\n",
    "events_Sweden=[pd.to_datetime('2020/3/24')]\n",
    "events_Switzerland=[pd.to_datetime('2020/3/16')]\n",
    "events_Turkey=[pd.to_datetime('2020/3/21')]\n",
    "events_United_Arab_Emirates=[pd.to_datetime('2020/3/31')]\n",
    "events_Ukraine=[pd.to_datetime('2020/3/25')]\n",
    "events_United_Kingdom=[pd.to_datetime('2020/3/24')]\n",
    "events_United_States=[pd.to_datetime('2020/3/19')]\n",
    "\n",
    "events_all={\n",
    "    \"Austria\": events_Austria, \"Belarus\": events_Belarus, \"Belgium\": events_Belgium, \"Brazil\": events_Brazil, \n",
    "    \"Canada\": events_Canada, \"Chile\": events_Chile, \"China\": events_China, \"Ecuador\": events_Ecuador,\n",
    "    \"France\": events_France, \"Germany\": events_Germany, \"India\": events_India, \"Indonesia\":events_Indonesia, \"Iran\": events_Iran, \n",
    "    \"Ireland\": events_Ireland, \"Israel\": events_Israel, \"Italy\": events_Italy, \"Japan\": events_Japan,\n",
    "    \"Mexico\": events_Mexico, \"Netherlands\": events_Netherlands, \"Pakistan\": events_Pakistan, \"Peru\": events_Peru,\n",
    "    \"Poland\": events_Poland, \"Portugal\": events_Portugal, \"Qatar\": events_Qatar, \"Romania\": events_Romania, \n",
    "    \"Russia\": events_Austria, \"Saudi Arabia\": events_Saudi_Arabia, \"Singapore\": events_Singapore, \"Korea, South\": events_South_Korea, \n",
    "    \"Spain\": events_Spain, \"Sweden\": events_Sweden, \"Switzerland\": events_Switzerland, \"Turkey\": events_Turkey,\n",
    "    \"United Arab Emirates\": events_United_Arab_Emirates, \"Ukraine\":events_Ukraine, \"United Kingdom\": events_United_Kingdom, \"US\": events_United_States\n",
    "}    "
   ]
  },
  {
   "cell_type": "code",
   "execution_count": 6,
   "metadata": {},
   "outputs": [
    {
     "name": "stdout",
     "output_type": "stream",
     "text": [
      "92.33199744142047\n",
      "247.24830664512976\n",
      "0.99\n",
      "0.99\n",
      "Austria\n",
      "date for alarms of 0th D-MDL\n",
      "0   2020-04-11\n",
      "Name: date, dtype: datetime64[ns]\n",
      "cutpoint\n",
      "0   2020-03-27\n",
      "Name: date, dtype: datetime64[ns]\n"
     ]
    },
    {
     "name": "stderr",
     "output_type": "stream",
     "text": [
      "/Users/ryo/.pyenv/versions/anaconda3-5.3.1/envs/wantedly/lib/python3.6/site-packages/pandas/plotting/_matplotlib/converter.py:103: FutureWarning: Using an implicitly registered datetime converter for a matplotlib plotting method. The converter was registered by pandas on import. Future versions of pandas will require you to explicitly register matplotlib converters.\n",
      "\n",
      "To register the converters:\n",
      "\t>>> from pandas.plotting import register_matplotlib_converters\n",
      "\t>>> register_matplotlib_converters()\n",
      "  warnings.warn(msg, FutureWarning)\n"
     ]
    },
    {
     "name": "stdout",
     "output_type": "stream",
     "text": [
      "Belarus\n",
      "date for alarms of 0th D-MDL\n",
      "Series([], Name: date, dtype: datetime64[ns])\n",
      "cutpoint\n",
      "Series([], Name: date, dtype: datetime64[ns])\n",
      "Belgium\n",
      "date for alarms of 0th D-MDL\n",
      "0   2020-03-05\n",
      "Name: date, dtype: datetime64[ns]\n",
      "cutpoint\n",
      "0   2020-03-02\n",
      "Name: date, dtype: datetime64[ns]\n",
      "Brazil\n",
      "date for alarms of 0th D-MDL\n",
      "0   2020-04-18\n",
      "Name: date, dtype: datetime64[ns]\n",
      "cutpoint\n",
      "0   2020-03-28\n",
      "Name: date, dtype: datetime64[ns]\n"
     ]
    },
    {
     "name": "stderr",
     "output_type": "stream",
     "text": [
      "/Users/ryo/.pyenv/versions/anaconda3-5.3.1/envs/wantedly/lib/python3.6/site-packages/matplotlib/pyplot.py:528: RuntimeWarning: More than 20 figures have been opened. Figures created through the pyplot interface (`matplotlib.pyplot.figure`) are retained until explicitly closed and may consume too much memory. (To control this warning, see the rcParam `figure.max_open_warning`).\n",
      "  max_open_warning, RuntimeWarning)\n"
     ]
    },
    {
     "name": "stdout",
     "output_type": "stream",
     "text": [
      "Canada\n",
      "date for alarms of 0th D-MDL\n",
      "0   2020-03-29\n",
      "Name: date, dtype: datetime64[ns]\n",
      "cutpoint\n",
      "0   2020-03-08\n",
      "Name: date, dtype: datetime64[ns]\n",
      "Chile\n",
      "date for alarms of 0th D-MDL\n",
      "0   2020-04-17\n",
      "Name: date, dtype: datetime64[ns]\n",
      "cutpoint\n",
      "0   2020-03-23\n",
      "Name: date, dtype: datetime64[ns]\n",
      "China\n",
      "date for alarms of 0th D-MDL\n",
      "0   2020-03-08\n",
      "Name: date, dtype: datetime64[ns]\n",
      "cutpoint\n",
      "0   2020-02-15\n",
      "Name: date, dtype: datetime64[ns]\n",
      "Ecuador\n",
      "date for alarms of 0th D-MDL\n",
      "0   2020-04-20\n",
      "Name: date, dtype: datetime64[ns]\n",
      "cutpoint\n",
      "0   2020-03-26\n",
      "Name: date, dtype: datetime64[ns]\n",
      "France\n",
      "date for alarms of 0th D-MDL\n",
      "0   2020-03-08\n",
      "Name: date, dtype: datetime64[ns]\n",
      "cutpoint\n",
      "0   2020-02-28\n",
      "Name: date, dtype: datetime64[ns]\n",
      "Germany\n",
      "date for alarms of 0th D-MDL\n",
      "0   2020-03-17\n",
      "Name: date, dtype: datetime64[ns]\n",
      "cutpoint\n",
      "0   2020-02-27\n",
      "Name: date, dtype: datetime64[ns]\n",
      "India\n",
      "date for alarms of 0th D-MDL\n",
      "0   2020-03-18\n",
      "Name: date, dtype: datetime64[ns]\n",
      "cutpoint\n",
      "0   2020-03-04\n",
      "Name: date, dtype: datetime64[ns]\n",
      "Indonesia\n",
      "date for alarms of 0th D-MDL\n",
      "0   2020-04-13\n",
      "Name: date, dtype: datetime64[ns]\n",
      "cutpoint\n",
      "0   2020-03-14\n",
      "Name: date, dtype: datetime64[ns]\n",
      "Iran\n",
      "date for alarms of 0th D-MDL\n",
      "0   2020-03-22\n",
      "Name: date, dtype: datetime64[ns]\n",
      "cutpoint\n",
      "0   2020-03-06\n",
      "Name: date, dtype: datetime64[ns]\n",
      "Ireland\n",
      "date for alarms of 0th D-MDL\n",
      "0   2020-04-16\n",
      "Name: date, dtype: datetime64[ns]\n",
      "cutpoint\n",
      "0   2020-03-20\n",
      "Name: date, dtype: datetime64[ns]\n",
      "Israel\n",
      "date for alarms of 0th D-MDL\n",
      "0   2020-04-16\n",
      "Name: date, dtype: datetime64[ns]\n",
      "cutpoint\n",
      "0   2020-03-30\n",
      "Name: date, dtype: datetime64[ns]\n",
      "Italy\n",
      "date for alarms of 0th D-MDL\n",
      "0   2020-02-24\n",
      "1   2020-04-20\n",
      "Name: date, dtype: datetime64[ns]\n",
      "cutpoint\n",
      "0   2020-02-21\n",
      "1   2020-03-17\n",
      "Name: date, dtype: datetime64[ns]\n",
      "Japan\n",
      "date for alarms of 0th D-MDL\n",
      "Series([], Name: date, dtype: datetime64[ns])\n",
      "cutpoint\n",
      "Series([], Name: date, dtype: datetime64[ns])\n",
      "Mexico\n",
      "date for alarms of 0th D-MDL\n",
      "0   2020-04-26\n",
      "Name: date, dtype: datetime64[ns]\n",
      "cutpoint\n",
      "0   2020-03-21\n",
      "Name: date, dtype: datetime64[ns]\n",
      "Netherlands\n",
      "date for alarms of 0th D-MDL\n",
      "0   2020-04-05\n",
      "Name: date, dtype: datetime64[ns]\n",
      "cutpoint\n",
      "0   2020-03-08\n",
      "Name: date, dtype: datetime64[ns]\n",
      "Pakistan\n",
      "date for alarms of 0th D-MDL\n",
      "0   2020-04-15\n",
      "Name: date, dtype: datetime64[ns]\n",
      "cutpoint\n",
      "0   2020-03-16\n",
      "Name: date, dtype: datetime64[ns]\n",
      "Peru\n",
      "date for alarms of 0th D-MDL\n",
      "Series([], Name: date, dtype: datetime64[ns])\n",
      "cutpoint\n",
      "Series([], Name: date, dtype: datetime64[ns])\n",
      "Poland\n",
      "date for alarms of 0th D-MDL\n",
      "0   2020-04-20\n",
      "Name: date, dtype: datetime64[ns]\n",
      "cutpoint\n",
      "0   2020-03-18\n",
      "Name: date, dtype: datetime64[ns]\n",
      "Portugal\n",
      "date for alarms of 0th D-MDL\n",
      "0   2020-04-16\n",
      "Name: date, dtype: datetime64[ns]\n",
      "cutpoint\n",
      "0   2020-03-29\n",
      "Name: date, dtype: datetime64[ns]\n",
      "Qatar\n",
      "date for alarms of 0th D-MDL\n",
      "0   2020-03-29\n",
      "Name: date, dtype: datetime64[ns]\n",
      "cutpoint\n",
      "0   2020-03-11\n",
      "Name: date, dtype: datetime64[ns]\n",
      "Romania\n",
      "date for alarms of 0th D-MDL\n",
      "0   2020-04-23\n",
      "Name: date, dtype: datetime64[ns]\n",
      "cutpoint\n",
      "0   2020-03-30\n",
      "Name: date, dtype: datetime64[ns]\n",
      "Russia\n",
      "date for alarms of 0th D-MDL\n",
      "0   2020-03-17\n",
      "Name: date, dtype: datetime64[ns]\n",
      "cutpoint\n",
      "0   2020-03-06\n",
      "Name: date, dtype: datetime64[ns]\n",
      "Saudi Arabia\n",
      "date for alarms of 0th D-MDL\n",
      "0   2020-04-27\n",
      "Name: date, dtype: datetime64[ns]\n",
      "cutpoint\n",
      "0   2020-03-13\n",
      "Name: date, dtype: datetime64[ns]\n",
      "Singapore\n",
      "date for alarms of 0th D-MDL\n",
      "Series([], Name: date, dtype: datetime64[ns])\n",
      "cutpoint\n",
      "Series([], Name: date, dtype: datetime64[ns])\n",
      "Korea, South\n",
      "date for alarms of 0th D-MDL\n",
      "0   2020-04-02\n",
      "Name: date, dtype: datetime64[ns]\n",
      "cutpoint\n",
      "0   2020-03-01\n",
      "Name: date, dtype: datetime64[ns]\n",
      "Spain\n",
      "date for alarms of 0th D-MDL\n",
      "0   2020-03-03\n",
      "1   2020-04-18\n",
      "Name: date, dtype: datetime64[ns]\n",
      "cutpoint\n",
      "0   2020-02-25\n",
      "1   2020-03-22\n",
      "Name: date, dtype: datetime64[ns]\n",
      "Sweden\n",
      "date for alarms of 0th D-MDL\n",
      "0   2020-03-04\n",
      "Name: date, dtype: datetime64[ns]\n",
      "cutpoint\n",
      "0   2020-02-27\n",
      "Name: date, dtype: datetime64[ns]\n",
      "Switzerland\n",
      "date for alarms of 0th D-MDL\n",
      "0   2020-04-10\n",
      "Name: date, dtype: datetime64[ns]\n",
      "cutpoint\n",
      "0   2020-03-17\n",
      "Name: date, dtype: datetime64[ns]\n",
      "Turkey\n",
      "date for alarms of 0th D-MDL\n",
      "0   2020-04-06\n",
      "Name: date, dtype: datetime64[ns]\n",
      "cutpoint\n",
      "0   2020-03-19\n",
      "Name: date, dtype: datetime64[ns]\n",
      "United Arab Emirates\n",
      "date for alarms of 0th D-MDL\n",
      "Series([], Name: date, dtype: datetime64[ns])\n",
      "cutpoint\n",
      "Series([], Name: date, dtype: datetime64[ns])\n",
      "Ukraine\n",
      "date for alarms of 0th D-MDL\n",
      "0   2020-04-30\n",
      "Name: date, dtype: datetime64[ns]\n",
      "cutpoint\n",
      "0   2020-03-31\n",
      "Name: date, dtype: datetime64[ns]\n",
      "United Kingdom\n",
      "date for alarms of 0th D-MDL\n",
      "Series([], Name: date, dtype: datetime64[ns])\n",
      "cutpoint\n",
      "Series([], Name: date, dtype: datetime64[ns])\n",
      "US\n",
      "date for alarms of 0th D-MDL\n",
      "0   2020-03-22\n",
      "Name: date, dtype: datetime64[ns]\n",
      "cutpoint\n",
      "0   2020-03-06\n",
      "Name: date, dtype: datetime64[ns]\n"
     ]
    },
    {
     "data": {
      "text/plain": [
       "<matplotlib.figure.Figure at 0x1060474e0>"
      ]
     },
     "metadata": {},
     "output_type": "display_data"
    },
    {
     "data": {
      "text/plain": [
       "<matplotlib.figure.Figure at 0x11936b6d8>"
      ]
     },
     "metadata": {},
     "output_type": "display_data"
    },
    {
     "data": {
      "text/plain": [
       "<matplotlib.figure.Figure at 0x11936b048>"
      ]
     },
     "metadata": {},
     "output_type": "display_data"
    },
    {
     "data": {
      "text/plain": [
       "<matplotlib.figure.Figure at 0x119403780>"
      ]
     },
     "metadata": {},
     "output_type": "display_data"
    },
    {
     "data": {
      "text/plain": [
       "<matplotlib.figure.Figure at 0x108c79240>"
      ]
     },
     "metadata": {},
     "output_type": "display_data"
    },
    {
     "data": {
      "text/plain": [
       "<matplotlib.figure.Figure at 0x10830ca90>"
      ]
     },
     "metadata": {},
     "output_type": "display_data"
    },
    {
     "data": {
      "text/plain": [
       "<matplotlib.figure.Figure at 0x10feb7eb8>"
      ]
     },
     "metadata": {},
     "output_type": "display_data"
    },
    {
     "data": {
      "text/plain": [
       "<matplotlib.figure.Figure at 0x10fef5128>"
      ]
     },
     "metadata": {},
     "output_type": "display_data"
    },
    {
     "data": {
      "text/plain": [
       "<matplotlib.figure.Figure at 0x119456828>"
      ]
     },
     "metadata": {},
     "output_type": "display_data"
    },
    {
     "data": {
      "text/plain": [
       "<matplotlib.figure.Figure at 0x10fef5d68>"
      ]
     },
     "metadata": {},
     "output_type": "display_data"
    },
    {
     "data": {
      "text/plain": [
       "<matplotlib.figure.Figure at 0x10fe9e588>"
      ]
     },
     "metadata": {},
     "output_type": "display_data"
    },
    {
     "data": {
      "text/plain": [
       "<matplotlib.figure.Figure at 0x10fef5748>"
      ]
     },
     "metadata": {},
     "output_type": "display_data"
    },
    {
     "data": {
      "text/plain": [
       "<matplotlib.figure.Figure at 0x107965278>"
      ]
     },
     "metadata": {},
     "output_type": "display_data"
    },
    {
     "data": {
      "text/plain": [
       "<matplotlib.figure.Figure at 0x10fe60b70>"
      ]
     },
     "metadata": {},
     "output_type": "display_data"
    },
    {
     "data": {
      "text/plain": [
       "<matplotlib.figure.Figure at 0x11945e320>"
      ]
     },
     "metadata": {},
     "output_type": "display_data"
    },
    {
     "data": {
      "text/plain": [
       "<matplotlib.figure.Figure at 0x10ff510b8>"
      ]
     },
     "metadata": {},
     "output_type": "display_data"
    },
    {
     "data": {
      "text/plain": [
       "<matplotlib.figure.Figure at 0x10ff31550>"
      ]
     },
     "metadata": {},
     "output_type": "display_data"
    },
    {
     "data": {
      "text/plain": [
       "<matplotlib.figure.Figure at 0x10fe6d9b0>"
      ]
     },
     "metadata": {},
     "output_type": "display_data"
    },
    {
     "data": {
      "text/plain": [
       "<matplotlib.figure.Figure at 0x11be11ef0>"
      ]
     },
     "metadata": {},
     "output_type": "display_data"
    },
    {
     "data": {
      "text/plain": [
       "<matplotlib.figure.Figure at 0x110200e10>"
      ]
     },
     "metadata": {},
     "output_type": "display_data"
    },
    {
     "data": {
      "text/plain": [
       "<matplotlib.figure.Figure at 0x1101e87f0>"
      ]
     },
     "metadata": {},
     "output_type": "display_data"
    },
    {
     "data": {
      "text/plain": [
       "<matplotlib.figure.Figure at 0x10fea24e0>"
      ]
     },
     "metadata": {},
     "output_type": "display_data"
    },
    {
     "data": {
      "text/plain": [
       "<matplotlib.figure.Figure at 0x10ff21710>"
      ]
     },
     "metadata": {},
     "output_type": "display_data"
    },
    {
     "data": {
      "text/plain": [
       "<matplotlib.figure.Figure at 0x10f63bc50>"
      ]
     },
     "metadata": {},
     "output_type": "display_data"
    },
    {
     "data": {
      "text/plain": [
       "<matplotlib.figure.Figure at 0x10ff2ff60>"
      ]
     },
     "metadata": {},
     "output_type": "display_data"
    },
    {
     "data": {
      "text/plain": [
       "<matplotlib.figure.Figure at 0x10f654e48>"
      ]
     },
     "metadata": {},
     "output_type": "display_data"
    },
    {
     "data": {
      "text/plain": [
       "<matplotlib.figure.Figure at 0x10fe9e860>"
      ]
     },
     "metadata": {},
     "output_type": "display_data"
    },
    {
     "data": {
      "text/plain": [
       "<matplotlib.figure.Figure at 0x11be7b518>"
      ]
     },
     "metadata": {},
     "output_type": "display_data"
    },
    {
     "data": {
      "text/plain": [
       "<matplotlib.figure.Figure at 0x10ff37278>"
      ]
     },
     "metadata": {},
     "output_type": "display_data"
    },
    {
     "data": {
      "text/plain": [
       "<matplotlib.figure.Figure at 0x1100a54e0>"
      ]
     },
     "metadata": {},
     "output_type": "display_data"
    },
    {
     "data": {
      "text/plain": [
       "<matplotlib.figure.Figure at 0x10f630400>"
      ]
     },
     "metadata": {},
     "output_type": "display_data"
    },
    {
     "data": {
      "text/plain": [
       "<matplotlib.figure.Figure at 0x107935080>"
      ]
     },
     "metadata": {},
     "output_type": "display_data"
    },
    {
     "data": {
      "text/plain": [
       "<matplotlib.figure.Figure at 0x119487438>"
      ]
     },
     "metadata": {},
     "output_type": "display_data"
    },
    {
     "data": {
      "text/plain": [
       "<matplotlib.figure.Figure at 0x1078fab70>"
      ]
     },
     "metadata": {},
     "output_type": "display_data"
    },
    {
     "data": {
      "text/plain": [
       "<matplotlib.figure.Figure at 0x11be75160>"
      ]
     },
     "metadata": {},
     "output_type": "display_data"
    },
    {
     "data": {
      "text/plain": [
       "<matplotlib.figure.Figure at 0x11be754e0>"
      ]
     },
     "metadata": {},
     "output_type": "display_data"
    },
    {
     "data": {
      "text/plain": [
       "<matplotlib.figure.Figure at 0x10f660c50>"
      ]
     },
     "metadata": {},
     "output_type": "display_data"
    },
    {
     "data": {
      "text/plain": [
       "<matplotlib.figure.Figure at 0x10fe95c88>"
      ]
     },
     "metadata": {},
     "output_type": "display_data"
    },
    {
     "data": {
      "text/plain": [
       "<matplotlib.figure.Figure at 0x10fe6da90>"
      ]
     },
     "metadata": {},
     "output_type": "display_data"
    },
    {
     "data": {
      "text/plain": [
       "<matplotlib.figure.Figure at 0x107913e48>"
      ]
     },
     "metadata": {},
     "output_type": "display_data"
    },
    {
     "data": {
      "text/plain": [
       "<matplotlib.figure.Figure at 0x10f666550>"
      ]
     },
     "metadata": {},
     "output_type": "display_data"
    },
    {
     "data": {
      "text/plain": [
       "<matplotlib.figure.Figure at 0x10fee4c18>"
      ]
     },
     "metadata": {},
     "output_type": "display_data"
    },
    {
     "data": {
      "text/plain": [
       "<matplotlib.figure.Figure at 0x10ff51240>"
      ]
     },
     "metadata": {},
     "output_type": "display_data"
    },
    {
     "data": {
      "text/plain": [
       "<matplotlib.figure.Figure at 0x1100ea518>"
      ]
     },
     "metadata": {},
     "output_type": "display_data"
    },
    {
     "data": {
      "text/plain": [
       "<matplotlib.figure.Figure at 0x1100a5198>"
      ]
     },
     "metadata": {},
     "output_type": "display_data"
    },
    {
     "data": {
      "text/plain": [
       "<matplotlib.figure.Figure at 0x119d4b278>"
      ]
     },
     "metadata": {},
     "output_type": "display_data"
    },
    {
     "data": {
      "text/plain": [
       "<matplotlib.figure.Figure at 0x10791fd68>"
      ]
     },
     "metadata": {},
     "output_type": "display_data"
    },
    {
     "data": {
      "text/plain": [
       "<matplotlib.figure.Figure at 0x1101d40b8>"
      ]
     },
     "metadata": {},
     "output_type": "display_data"
    },
    {
     "data": {
      "text/plain": [
       "<matplotlib.figure.Figure at 0x10fe9eb70>"
      ]
     },
     "metadata": {},
     "output_type": "display_data"
    },
    {
     "data": {
      "text/plain": [
       "<matplotlib.figure.Figure at 0x11038c7b8>"
      ]
     },
     "metadata": {},
     "output_type": "display_data"
    },
    {
     "data": {
      "text/plain": [
       "<matplotlib.figure.Figure at 0x10f630630>"
      ]
     },
     "metadata": {},
     "output_type": "display_data"
    },
    {
     "data": {
      "text/plain": [
       "<matplotlib.figure.Figure at 0x11bdbda20>"
      ]
     },
     "metadata": {},
     "output_type": "display_data"
    },
    {
     "data": {
      "text/plain": [
       "<matplotlib.figure.Figure at 0x10fee4400>"
      ]
     },
     "metadata": {},
     "output_type": "display_data"
    },
    {
     "data": {
      "text/plain": [
       "<matplotlib.figure.Figure at 0x110212048>"
      ]
     },
     "metadata": {},
     "output_type": "display_data"
    },
    {
     "data": {
      "text/plain": [
       "<matplotlib.figure.Figure at 0x11be0bd68>"
      ]
     },
     "metadata": {},
     "output_type": "display_data"
    },
    {
     "data": {
      "text/plain": [
       "<matplotlib.figure.Figure at 0x1100d14a8>"
      ]
     },
     "metadata": {},
     "output_type": "display_data"
    },
    {
     "data": {
      "text/plain": [
       "<matplotlib.figure.Figure at 0x1083267b8>"
      ]
     },
     "metadata": {},
     "output_type": "display_data"
    },
    {
     "data": {
      "text/plain": [
       "<matplotlib.figure.Figure at 0x1100fb048>"
      ]
     },
     "metadata": {},
     "output_type": "display_data"
    },
    {
     "data": {
      "text/plain": [
       "<matplotlib.figure.Figure at 0x10f65ad30>"
      ]
     },
     "metadata": {},
     "output_type": "display_data"
    },
    {
     "data": {
      "text/plain": [
       "<matplotlib.figure.Figure at 0x1101eeeb8>"
      ]
     },
     "metadata": {},
     "output_type": "display_data"
    },
    {
     "data": {
      "text/plain": [
       "<matplotlib.figure.Figure at 0x11be42438>"
      ]
     },
     "metadata": {},
     "output_type": "display_data"
    },
    {
     "data": {
      "text/plain": [
       "<matplotlib.figure.Figure at 0x11be3ce10>"
      ]
     },
     "metadata": {},
     "output_type": "display_data"
    },
    {
     "data": {
      "text/plain": [
       "<matplotlib.figure.Figure at 0x11bf212e8>"
      ]
     },
     "metadata": {},
     "output_type": "display_data"
    },
    {
     "data": {
      "text/plain": [
       "<matplotlib.figure.Figure at 0x10f63b160>"
      ]
     },
     "metadata": {},
     "output_type": "display_data"
    },
    {
     "data": {
      "text/plain": [
       "<matplotlib.figure.Figure at 0x10f641438>"
      ]
     },
     "metadata": {},
     "output_type": "display_data"
    },
    {
     "data": {
      "text/plain": [
       "<matplotlib.figure.Figure at 0x11be5ccc0>"
      ]
     },
     "metadata": {},
     "output_type": "display_data"
    },
    {
     "data": {
      "text/plain": [
       "<matplotlib.figure.Figure at 0x10f630ac8>"
      ]
     },
     "metadata": {},
     "output_type": "display_data"
    },
    {
     "data": {
      "text/plain": [
       "<matplotlib.figure.Figure at 0x11bf0deb8>"
      ]
     },
     "metadata": {},
     "output_type": "display_data"
    },
    {
     "data": {
      "text/plain": [
       "<matplotlib.figure.Figure at 0x10ff33278>"
      ]
     },
     "metadata": {},
     "output_type": "display_data"
    },
    {
     "data": {
      "text/plain": [
       "<matplotlib.figure.Figure at 0x10fece780>"
      ]
     },
     "metadata": {},
     "output_type": "display_data"
    },
    {
     "data": {
      "text/plain": [
       "<matplotlib.figure.Figure at 0x11be7bc50>"
      ]
     },
     "metadata": {},
     "output_type": "display_data"
    },
    {
     "data": {
      "text/plain": [
       "<matplotlib.figure.Figure at 0x11036f9b0>"
      ]
     },
     "metadata": {},
     "output_type": "display_data"
    },
    {
     "data": {
      "text/plain": [
       "<matplotlib.figure.Figure at 0x124455eb8>"
      ]
     },
     "metadata": {},
     "output_type": "display_data"
    },
    {
     "data": {
      "text/plain": [
       "<matplotlib.figure.Figure at 0x1100a99e8>"
      ]
     },
     "metadata": {},
     "output_type": "display_data"
    },
    {
     "data": {
      "text/plain": [
       "<matplotlib.figure.Figure at 0x11be11438>"
      ]
     },
     "metadata": {},
     "output_type": "display_data"
    },
    {
     "data": {
      "text/plain": [
       "<matplotlib.figure.Figure at 0x10ff394a8>"
      ]
     },
     "metadata": {},
     "output_type": "display_data"
    },
    {
     "data": {
      "text/plain": [
       "<matplotlib.figure.Figure at 0x110384f60>"
      ]
     },
     "metadata": {},
     "output_type": "display_data"
    },
    {
     "data": {
      "text/plain": [
       "<matplotlib.figure.Figure at 0x11be4e470>"
      ]
     },
     "metadata": {},
     "output_type": "display_data"
    },
    {
     "data": {
      "text/plain": [
       "<matplotlib.figure.Figure at 0x1244390b8>"
      ]
     },
     "metadata": {},
     "output_type": "display_data"
    },
    {
     "data": {
      "text/plain": [
       "<matplotlib.figure.Figure at 0x11038c748>"
      ]
     },
     "metadata": {},
     "output_type": "display_data"
    },
    {
     "data": {
      "text/plain": [
       "<matplotlib.figure.Figure at 0x10fe7e358>"
      ]
     },
     "metadata": {},
     "output_type": "display_data"
    },
    {
     "data": {
      "text/plain": [
       "<matplotlib.figure.Figure at 0x108312128>"
      ]
     },
     "metadata": {},
     "output_type": "display_data"
    },
    {
     "data": {
      "text/plain": [
       "<matplotlib.figure.Figure at 0x11be06cc0>"
      ]
     },
     "metadata": {},
     "output_type": "display_data"
    },
    {
     "data": {
      "text/plain": [
       "<matplotlib.figure.Figure at 0x1102005f8>"
      ]
     },
     "metadata": {},
     "output_type": "display_data"
    },
    {
     "data": {
      "text/plain": [
       "<matplotlib.figure.Figure at 0x11be06390>"
      ]
     },
     "metadata": {},
     "output_type": "display_data"
    },
    {
     "data": {
      "text/plain": [
       "<matplotlib.figure.Figure at 0x119d4cf60>"
      ]
     },
     "metadata": {},
     "output_type": "display_data"
    },
    {
     "data": {
      "text/plain": [
       "<matplotlib.figure.Figure at 0x10fe605c0>"
      ]
     },
     "metadata": {},
     "output_type": "display_data"
    },
    {
     "data": {
      "text/plain": [
       "<matplotlib.figure.Figure at 0x124405c88>"
      ]
     },
     "metadata": {},
     "output_type": "display_data"
    },
    {
     "data": {
      "text/plain": [
       "<matplotlib.figure.Figure at 0x1243fb588>"
      ]
     },
     "metadata": {},
     "output_type": "display_data"
    },
    {
     "data": {
      "text/plain": [
       "<matplotlib.figure.Figure at 0x110200f60>"
      ]
     },
     "metadata": {},
     "output_type": "display_data"
    },
    {
     "data": {
      "text/plain": [
       "<matplotlib.figure.Figure at 0x11946b198>"
      ]
     },
     "metadata": {},
     "output_type": "display_data"
    },
    {
     "data": {
      "text/plain": [
       "<matplotlib.figure.Figure at 0x10f666978>"
      ]
     },
     "metadata": {},
     "output_type": "display_data"
    },
    {
     "data": {
      "text/plain": [
       "<matplotlib.figure.Figure at 0x119328940>"
      ]
     },
     "metadata": {},
     "output_type": "display_data"
    },
    {
     "data": {
      "text/plain": [
       "<matplotlib.figure.Figure at 0x119456390>"
      ]
     },
     "metadata": {},
     "output_type": "display_data"
    },
    {
     "data": {
      "text/plain": [
       "<matplotlib.figure.Figure at 0x11bdbdcf8>"
      ]
     },
     "metadata": {},
     "output_type": "display_data"
    },
    {
     "data": {
      "text/plain": [
       "<matplotlib.figure.Figure at 0x1083089e8>"
      ]
     },
     "metadata": {},
     "output_type": "display_data"
    },
    {
     "data": {
      "text/plain": [
       "<matplotlib.figure.Figure at 0x10ffe4c18>"
      ]
     },
     "metadata": {},
     "output_type": "display_data"
    },
    {
     "data": {
      "text/plain": [
       "<matplotlib.figure.Figure at 0x1102265c0>"
      ]
     },
     "metadata": {},
     "output_type": "display_data"
    },
    {
     "data": {
      "text/plain": [
       "<matplotlib.figure.Figure at 0x124455470>"
      ]
     },
     "metadata": {},
     "output_type": "display_data"
    },
    {
     "data": {
      "text/plain": [
       "<matplotlib.figure.Figure at 0x1194414e0>"
      ]
     },
     "metadata": {},
     "output_type": "display_data"
    },
    {
     "data": {
      "text/plain": [
       "<matplotlib.figure.Figure at 0x10fef5048>"
      ]
     },
     "metadata": {},
     "output_type": "display_data"
    },
    {
     "data": {
      "text/plain": [
       "<matplotlib.figure.Figure at 0x110374898>"
      ]
     },
     "metadata": {},
     "output_type": "display_data"
    },
    {
     "data": {
      "text/plain": [
       "<matplotlib.figure.Figure at 0x1100d10b8>"
      ]
     },
     "metadata": {},
     "output_type": "display_data"
    },
    {
     "data": {
      "text/plain": [
       "<matplotlib.figure.Figure at 0x119d4b668>"
      ]
     },
     "metadata": {},
     "output_type": "display_data"
    },
    {
     "data": {
      "text/plain": [
       "<matplotlib.figure.Figure at 0x10fe60780>"
      ]
     },
     "metadata": {},
     "output_type": "display_data"
    },
    {
     "data": {
      "text/plain": [
       "<matplotlib.figure.Figure at 0x108c79a90>"
      ]
     },
     "metadata": {},
     "output_type": "display_data"
    },
    {
     "data": {
      "text/plain": [
       "<matplotlib.figure.Figure at 0x10ff24940>"
      ]
     },
     "metadata": {},
     "output_type": "display_data"
    },
    {
     "data": {
      "text/plain": [
       "<matplotlib.figure.Figure at 0x11945e3c8>"
      ]
     },
     "metadata": {},
     "output_type": "display_data"
    },
    {
     "data": {
      "text/plain": [
       "<matplotlib.figure.Figure at 0x107980c50>"
      ]
     },
     "metadata": {},
     "output_type": "display_data"
    },
    {
     "data": {
      "text/plain": [
       "<matplotlib.figure.Figure at 0x1100d13c8>"
      ]
     },
     "metadata": {},
     "output_type": "display_data"
    },
    {
     "data": {
      "text/plain": [
       "<matplotlib.figure.Figure at 0x119d4ca20>"
      ]
     },
     "metadata": {},
     "output_type": "display_data"
    },
    {
     "data": {
      "text/plain": [
       "<matplotlib.figure.Figure at 0x1100a00f0>"
      ]
     },
     "metadata": {},
     "output_type": "display_data"
    },
    {
     "data": {
      "text/plain": [
       "<matplotlib.figure.Figure at 0x1079357b8>"
      ]
     },
     "metadata": {},
     "output_type": "display_data"
    },
    {
     "data": {
      "text/plain": [
       "<matplotlib.figure.Figure at 0x11be70978>"
      ]
     },
     "metadata": {},
     "output_type": "display_data"
    },
    {
     "data": {
      "text/plain": [
       "<matplotlib.figure.Figure at 0x1100803c8>"
      ]
     },
     "metadata": {},
     "output_type": "display_data"
    },
    {
     "data": {
      "text/plain": [
       "<matplotlib.figure.Figure at 0x107900160>"
      ]
     },
     "metadata": {},
     "output_type": "display_data"
    },
    {
     "data": {
      "text/plain": [
       "<matplotlib.figure.Figure at 0x1079174a8>"
      ]
     },
     "metadata": {},
     "output_type": "display_data"
    },
    {
     "data": {
      "text/plain": [
       "<matplotlib.figure.Figure at 0x10fedc3c8>"
      ]
     },
     "metadata": {},
     "output_type": "display_data"
    },
    {
     "data": {
      "text/plain": [
       "<matplotlib.figure.Figure at 0x10f63bc88>"
      ]
     },
     "metadata": {},
     "output_type": "display_data"
    },
    {
     "data": {
      "text/plain": [
       "<matplotlib.figure.Figure at 0x110052ef0>"
      ]
     },
     "metadata": {},
     "output_type": "display_data"
    },
    {
     "data": {
      "text/plain": [
       "<matplotlib.figure.Figure at 0x11036fbe0>"
      ]
     },
     "metadata": {},
     "output_type": "display_data"
    },
    {
     "data": {
      "text/plain": [
       "<matplotlib.figure.Figure at 0x10fe66ba8>"
      ]
     },
     "metadata": {},
     "output_type": "display_data"
    },
    {
     "data": {
      "text/plain": [
       "<matplotlib.figure.Figure at 0x10ff37e48>"
      ]
     },
     "metadata": {},
     "output_type": "display_data"
    },
    {
     "data": {
      "text/plain": [
       "<matplotlib.figure.Figure at 0x1100309b0>"
      ]
     },
     "metadata": {},
     "output_type": "display_data"
    },
    {
     "data": {
      "text/plain": [
       "<matplotlib.figure.Figure at 0x11bf94a90>"
      ]
     },
     "metadata": {},
     "output_type": "display_data"
    },
    {
     "data": {
      "text/plain": [
       "<matplotlib.figure.Figure at 0x11bdca898>"
      ]
     },
     "metadata": {},
     "output_type": "display_data"
    },
    {
     "data": {
      "text/plain": [
       "<matplotlib.figure.Figure at 0x1194036a0>"
      ]
     },
     "metadata": {},
     "output_type": "display_data"
    },
    {
     "data": {
      "text/plain": [
       "<matplotlib.figure.Figure at 0x1241e59b0>"
      ]
     },
     "metadata": {},
     "output_type": "display_data"
    },
    {
     "data": {
      "text/plain": [
       "<matplotlib.figure.Figure at 0x10830c470>"
      ]
     },
     "metadata": {},
     "output_type": "display_data"
    },
    {
     "data": {
      "text/plain": [
       "<matplotlib.figure.Figure at 0x10feefd30>"
      ]
     },
     "metadata": {},
     "output_type": "display_data"
    },
    {
     "data": {
      "text/plain": [
       "<matplotlib.figure.Figure at 0x1100c9828>"
      ]
     },
     "metadata": {},
     "output_type": "display_data"
    },
    {
     "data": {
      "text/plain": [
       "<matplotlib.figure.Figure at 0x1101d7358>"
      ]
     },
     "metadata": {},
     "output_type": "display_data"
    },
    {
     "data": {
      "text/plain": [
       "<matplotlib.figure.Figure at 0x11be54908>"
      ]
     },
     "metadata": {},
     "output_type": "display_data"
    },
    {
     "data": {
      "text/plain": [
       "<matplotlib.figure.Figure at 0x11be110b8>"
      ]
     },
     "metadata": {},
     "output_type": "display_data"
    },
    {
     "data": {
      "text/plain": [
       "<matplotlib.figure.Figure at 0x1101e8f28>"
      ]
     },
     "metadata": {},
     "output_type": "display_data"
    },
    {
     "data": {
      "text/plain": [
       "<matplotlib.figure.Figure at 0x118983828>"
      ]
     },
     "metadata": {},
     "output_type": "display_data"
    },
    {
     "data": {
      "text/plain": [
       "<matplotlib.figure.Figure at 0x10feef748>"
      ]
     },
     "metadata": {},
     "output_type": "display_data"
    },
    {
     "data": {
      "text/plain": [
       "<matplotlib.figure.Figure at 0x11be4ee80>"
      ]
     },
     "metadata": {},
     "output_type": "display_data"
    },
    {
     "data": {
      "text/plain": [
       "<matplotlib.figure.Figure at 0x119d164a8>"
      ]
     },
     "metadata": {},
     "output_type": "display_data"
    },
    {
     "data": {
      "text/plain": [
       "<matplotlib.figure.Figure at 0x1241e8400>"
      ]
     },
     "metadata": {},
     "output_type": "display_data"
    },
    {
     "data": {
      "text/plain": [
       "<matplotlib.figure.Figure at 0x11be67320>"
      ]
     },
     "metadata": {},
     "output_type": "display_data"
    },
    {
     "data": {
      "text/plain": [
       "<matplotlib.figure.Figure at 0x11be7b6a0>"
      ]
     },
     "metadata": {},
     "output_type": "display_data"
    },
    {
     "data": {
      "text/plain": [
       "<matplotlib.figure.Figure at 0x10feb72e8>"
      ]
     },
     "metadata": {},
     "output_type": "display_data"
    },
    {
     "data": {
      "text/plain": [
       "<matplotlib.figure.Figure at 0x119cecc18>"
      ]
     },
     "metadata": {},
     "output_type": "display_data"
    },
    {
     "data": {
      "text/plain": [
       "<matplotlib.figure.Figure at 0x10ff1a7f0>"
      ]
     },
     "metadata": {},
     "output_type": "display_data"
    },
    {
     "data": {
      "text/plain": [
       "<matplotlib.figure.Figure at 0x11be75cf8>"
      ]
     },
     "metadata": {},
     "output_type": "display_data"
    },
    {
     "data": {
      "text/plain": [
       "<matplotlib.figure.Figure at 0x10ff21080>"
      ]
     },
     "metadata": {},
     "output_type": "display_data"
    },
    {
     "data": {
      "text/plain": [
       "<matplotlib.figure.Figure at 0x1241e8a20>"
      ]
     },
     "metadata": {},
     "output_type": "display_data"
    },
    {
     "data": {
      "text/plain": [
       "<matplotlib.figure.Figure at 0x11bda48d0>"
      ]
     },
     "metadata": {},
     "output_type": "display_data"
    },
    {
     "data": {
      "text/plain": [
       "<matplotlib.figure.Figure at 0x110192240>"
      ]
     },
     "metadata": {},
     "output_type": "display_data"
    },
    {
     "data": {
      "text/plain": [
       "<matplotlib.figure.Figure at 0x10791bc88>"
      ]
     },
     "metadata": {},
     "output_type": "display_data"
    },
    {
     "data": {
      "text/plain": [
       "<matplotlib.figure.Figure at 0x1241dfba8>"
      ]
     },
     "metadata": {},
     "output_type": "display_data"
    },
    {
     "data": {
      "text/plain": [
       "<matplotlib.figure.Figure at 0x124468048>"
      ]
     },
     "metadata": {},
     "output_type": "display_data"
    },
    {
     "data": {
      "text/plain": [
       "<matplotlib.figure.Figure at 0x11be42780>"
      ]
     },
     "metadata": {},
     "output_type": "display_data"
    },
    {
     "data": {
      "text/plain": [
       "<matplotlib.figure.Figure at 0x10ff51630>"
      ]
     },
     "metadata": {},
     "output_type": "display_data"
    },
    {
     "data": {
      "text/plain": [
       "<matplotlib.figure.Figure at 0x10f65a160>"
      ]
     },
     "metadata": {},
     "output_type": "display_data"
    },
    {
     "data": {
      "text/plain": [
       "<matplotlib.figure.Figure at 0x10fefde10>"
      ]
     },
     "metadata": {},
     "output_type": "display_data"
    },
    {
     "data": {
      "text/plain": [
       "<matplotlib.figure.Figure at 0x11017b518>"
      ]
     },
     "metadata": {},
     "output_type": "display_data"
    },
    {
     "data": {
      "text/plain": [
       "<matplotlib.figure.Figure at 0x1243fbba8>"
      ]
     },
     "metadata": {},
     "output_type": "display_data"
    },
    {
     "data": {
      "text/plain": [
       "<matplotlib.figure.Figure at 0x10ff3d2b0>"
      ]
     },
     "metadata": {},
     "output_type": "display_data"
    },
    {
     "data": {
      "text/plain": [
       "<matplotlib.figure.Figure at 0x10830c668>"
      ]
     },
     "metadata": {},
     "output_type": "display_data"
    },
    {
     "data": {
      "text/plain": [
       "<matplotlib.figure.Figure at 0x11936bf28>"
      ]
     },
     "metadata": {},
     "output_type": "display_data"
    },
    {
     "data": {
      "text/plain": [
       "<matplotlib.figure.Figure at 0x11bf302b0>"
      ]
     },
     "metadata": {},
     "output_type": "display_data"
    },
    {
     "data": {
      "text/plain": [
       "<matplotlib.figure.Figure at 0x11bfaa048>"
      ]
     },
     "metadata": {},
     "output_type": "display_data"
    },
    {
     "data": {
      "text/plain": [
       "<matplotlib.figure.Figure at 0x1101165f8>"
      ]
     },
     "metadata": {},
     "output_type": "display_data"
    },
    {
     "data": {
      "text/plain": [
       "<matplotlib.figure.Figure at 0x1241a1ac8>"
      ]
     },
     "metadata": {},
     "output_type": "display_data"
    },
    {
     "data": {
      "text/plain": [
       "<matplotlib.figure.Figure at 0x10f6307f0>"
      ]
     },
     "metadata": {},
     "output_type": "display_data"
    },
    {
     "data": {
      "text/plain": [
       "<matplotlib.figure.Figure at 0x1101d4d68>"
      ]
     },
     "metadata": {},
     "output_type": "display_data"
    },
    {
     "data": {
      "text/plain": [
       "<matplotlib.figure.Figure at 0x11bdd7c50>"
      ]
     },
     "metadata": {},
     "output_type": "display_data"
    },
    {
     "data": {
      "text/plain": [
       "<matplotlib.figure.Figure at 0x108326438>"
      ]
     },
     "metadata": {},
     "output_type": "display_data"
    },
    {
     "data": {
      "text/plain": [
       "<matplotlib.figure.Figure at 0x110185c88>"
      ]
     },
     "metadata": {},
     "output_type": "display_data"
    },
    {
     "data": {
      "text/plain": [
       "<matplotlib.figure.Figure at 0x1101dc0f0>"
      ]
     },
     "metadata": {},
     "output_type": "display_data"
    },
    {
     "data": {
      "text/plain": [
       "<matplotlib.figure.Figure at 0x1101a5b70>"
      ]
     },
     "metadata": {},
     "output_type": "display_data"
    },
    {
     "data": {
      "text/plain": [
       "<matplotlib.figure.Figure at 0x11bdd7828>"
      ]
     },
     "metadata": {},
     "output_type": "display_data"
    },
    {
     "data": {
      "text/plain": [
       "<matplotlib.figure.Figure at 0x124405668>"
      ]
     },
     "metadata": {},
     "output_type": "display_data"
    },
    {
     "data": {
      "text/plain": [
       "<matplotlib.figure.Figure at 0x1100fb908>"
      ]
     },
     "metadata": {},
     "output_type": "display_data"
    },
    {
     "data": {
      "text/plain": [
       "<matplotlib.figure.Figure at 0x1100d1a58>"
      ]
     },
     "metadata": {},
     "output_type": "display_data"
    },
    {
     "data": {
      "text/plain": [
       "<matplotlib.figure.Figure at 0x110080c50>"
      ]
     },
     "metadata": {},
     "output_type": "display_data"
    },
    {
     "data": {
      "text/plain": [
       "<matplotlib.figure.Figure at 0x11011b358>"
      ]
     },
     "metadata": {},
     "output_type": "display_data"
    },
    {
     "data": {
      "text/plain": [
       "<matplotlib.figure.Figure at 0x1101d7630>"
      ]
     },
     "metadata": {},
     "output_type": "display_data"
    },
    {
     "data": {
      "text/plain": [
       "<matplotlib.figure.Figure at 0x119ca46a0>"
      ]
     },
     "metadata": {},
     "output_type": "display_data"
    },
    {
     "data": {
      "text/plain": [
       "<matplotlib.figure.Figure at 0x11bfaab00>"
      ]
     },
     "metadata": {},
     "output_type": "display_data"
    },
    {
     "data": {
      "text/plain": [
       "<matplotlib.figure.Figure at 0x11be707f0>"
      ]
     },
     "metadata": {},
     "output_type": "display_data"
    },
    {
     "data": {
      "text/plain": [
       "<matplotlib.figure.Figure at 0x11fc19080>"
      ]
     },
     "metadata": {},
     "output_type": "display_data"
    },
    {
     "data": {
      "text/plain": [
       "<matplotlib.figure.Figure at 0x124284c18>"
      ]
     },
     "metadata": {},
     "output_type": "display_data"
    },
    {
     "data": {
      "image/png": "[encoded data removed]",
      "text/plain": [
       "<matplotlib.figure.Figure at 0x1241dfe80>"
      ]
     },
     "metadata": {},
     "output_type": "display_data"
    }
   ],
   "source": [
    "sigma_given=0.4 #hyperparameter for LNML of Gaussian\n",
    "alpha_1, alpha_2 = calculate_alpha({\"sigma_given\": sigma_given}) # upper-bounds for 1st and 2nd D-MDL\n",
    "\n",
    "print(alpha_1)\n",
    "print(alpha_2)\n",
    "\n",
    "parameters={\"sigma_given\": sigma_given, \"alpha_1\": alpha_1, \"alpha_2\": alpha_2}\n",
    "\n",
    "os.makedirs(\"../../figs\", exist_ok=True)\n",
    "\n",
    "for country in countries:\n",
    "    events=events_all[country]\n",
    "    print(country)\n",
    "    country_graph(country, events, parameters)"
   ]
  },
  {
   "cell_type": "code",
   "execution_count": null,
   "metadata": {},
   "outputs": [],
   "source": []
  },
  {
   "cell_type": "code",
   "execution_count": null,
   "metadata": {},
   "outputs": [],
   "source": []
  },
  {
   "cell_type": "code",
   "execution_count": null,
   "metadata": {},
   "outputs": [],
   "source": []
  }
 ],
 "metadata": {
  "kernelspec": {
   "display_name": "Python 3",
   "language": "python",
   "name": "python3"
  },
  "language_info": {
   "codemirror_mode": {
    "name": "ipython",
    "version": 3
   },
   "file_extension": ".py",
   "mimetype": "text/x-python",
   "name": "python",
   "nbconvert_exporter": "python",
   "pygments_lexer": "ipython3",
   "version": "3.6.4"
  }
 },
 "nbformat": 4,
 "nbformat_minor": 2
}
