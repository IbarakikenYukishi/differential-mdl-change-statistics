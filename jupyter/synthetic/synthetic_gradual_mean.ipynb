{
 "cells": [
  {
   "cell_type": "code",
   "execution_count": 1,
   "metadata": {},
   "outputs": [],
   "source": [
    "import numpy as np"
   ]
  },
  {
   "cell_type": "code",
   "execution_count": 2,
   "metadata": {},
   "outputs": [],
   "source": [
    "import sys\n",
    "import tqdm\n",
    "from functools import partial"
   ]
  },
  {
   "cell_type": "code",
   "execution_count": 3,
   "metadata": {},
   "outputs": [],
   "source": [
    "sys.path.append('./adwin')"
   ]
  },
  {
   "cell_type": "code",
   "execution_count": 4,
   "metadata": {},
   "outputs": [],
   "source": [
    "from mdl.smdl import SMDL\n",
    "from mdl.model import Norm1D\n",
    "from cf.mycf import ChangeFinder\n",
    "from bocpd.mybocpd import BOCD, StudentT, constant_hazard\n",
    "from adwin2 import ADWIN2\n",
    "from scaw.SCAW2 import MDLCPStat_adwin2, lnml_gaussian"
   ]
  },
  {
   "cell_type": "code",
   "execution_count": 5,
   "metadata": {},
   "outputs": [],
   "source": [
    "from generate_data import generate_multiple_changing_mean_gradual\n",
    "from evaluation import calc_auc_average, calc_falarms_benefit, InvRunLen"
   ]
  },
  {
   "cell_type": "code",
   "execution_count": 6,
   "metadata": {},
   "outputs": [],
   "source": [
    "###\n",
    "N = 10\n",
    "N_trial = 10\n",
    "\n",
    "SIGMA = 1.0\n",
    "COEF = 0.3\n",
    "# true change points\n",
    "cps_true = np.array([1000, 2000, 3000, 4000, 5000, 6000, 7000, 8000, 9000]) - 1\n",
    "###"
   ]
  },
  {
   "cell_type": "markdown",
   "metadata": {},
   "source": [
    "# ChangeFinder"
   ]
  },
  {
   "cell_type": "code",
   "execution_count": 7,
   "metadata": {},
   "outputs": [
    {
     "name": "stdout",
     "output_type": "stream",
     "text": [
      "r_cf = 0.003 order = 2 : 0.4492062336361773 +/- 0.027416174408318592\n",
      "r_cf = 0.003 order = 3 : 0.45604155481956055 +/- 0.021666809262538358\n",
      "r_cf = 0.003 order = 4 : 0.4829613377010413 +/- 0.017168242331332118\n",
      "r_cf = 0.003 order = 5 : 0.4768801961245641 +/- 0.018109670983715766\n",
      "r_cf = 0.005 order = 2 : 0.46080019039345566 +/- 0.02630977626974498\n",
      "r_cf = 0.005 order = 3 : 0.4630936965046272 +/- 0.026587154878157642\n",
      "r_cf = 0.005 order = 4 : 0.4697871881372088 +/- 0.019321911517344463\n",
      "r_cf = 0.005 order = 5 : 0.47232447364293384 +/- 0.018064782861951158\n",
      "r_cf = 0.01 order = 2 : 0.4985402249610888 +/- 0.035127721135277644\n",
      "r_cf = 0.01 order = 3 : 0.49385323880020754 +/- 0.03289042261446822\n",
      "r_cf = 0.01 order = 4 : 0.48719251686152437 +/- 0.03259074193369835\n",
      "r_cf = 0.01 order = 5 : 0.48679292877740377 +/- 0.0327376185133799\n",
      "r_cf = 0.03 order = 2 : 0.5047395822323573 +/- 0.029162340358474533\n",
      "r_cf = 0.03 order = 3 : 0.49791978288148064 +/- 0.02686503248839184\n",
      "r_cf = 0.03 order = 4 : 0.49380022013489216 +/- 0.028473700210129085\n",
      "r_cf = 0.03 order = 5 : 0.49371969407946337 +/- 0.03315134546069698\n",
      "r_cf = 0.1 order = 2 : 0.4984791447376359 +/- 0.025129819959425245\n",
      "r_cf = 0.1 order = 3 : 0.5021146577020066 +/- 0.024638911706435205\n",
      "r_cf = 0.1 order = 4 : 0.5028799845561709 +/- 0.029558027643632332\n",
      "r_cf = 0.1 order = 5 : 0.5015935809172187 +/- 0.01721605869036014\n"
     ]
    }
   ],
   "source": [
    "smooth1 = 5\n",
    "smooth2 = 5\n",
    "\n",
    "\n",
    "for r_cf in [0.003, 0.005, 0.01, 0.03, 0.1]:\n",
    "    for order in [2, 3, 4, 5]:\n",
    "        scores_cf = []\n",
    "\n",
    "        for i in range(N_trial):\n",
    "            X = generate_multiple_changing_mean_gradual(N, sigma=SIGMA, coef=COEF, seed=i)\n",
    "\n",
    "            # ChangeFinder\n",
    "            cf = ChangeFinder(r=r_cf, order1=order, order2=order, smooth1=smooth1, smooth2=smooth2)\n",
    "\n",
    "            scores = []\n",
    "            for x in X:\n",
    "                score, _ = cf.update(x)\n",
    "                scores.append(score)\n",
    "\n",
    "            scores = np.array(scores)\n",
    "            scores_cf.append(scores)\n",
    "\n",
    "        scores_cf = np.array(scores_cf)\n",
    "        auc_list = calc_auc_average(scores_cf)\n",
    "        print('r_cf =', r_cf, 'order =', order, ':', np.mean(auc_list), '+/-', np.std(auc_list))"
   ]
  },
  {
   "cell_type": "code",
   "execution_count": null,
   "metadata": {},
   "outputs": [],
   "source": []
  },
  {
   "cell_type": "markdown",
   "metadata": {},
   "source": [
    "# BOCPD"
   ]
  },
  {
   "cell_type": "code",
   "execution_count": 8,
   "metadata": {},
   "outputs": [
    {
     "name": "stdout",
     "output_type": "stream",
     "text": [
      "LAMBDA = 100 THRESHOLD = 0.1 : 0.4063147273198924 +/- 0.04844171574690272\n",
      "LAMBDA = 100 THRESHOLD = 0.3 : 0.4063147273198924 +/- 0.04844171574690272\n",
      "LAMBDA = 600 THRESHOLD = 0.1 : 0.4159691242866278 +/- 0.03845106903470217\n",
      "LAMBDA = 600 THRESHOLD = 0.3 : 0.4159691242866278 +/- 0.03845106903470217\n"
     ]
    }
   ],
   "source": [
    "ALPHA = 0.1\n",
    "BETA = 1.0\n",
    "KAPPA = 1.0\n",
    "MU = 0.0\n",
    "DELAY = 15\n",
    "\n",
    "for LAMBDA in [100, 600]:\n",
    "    for THRESHOLD in [0.1, 0.3]:\n",
    "        scores_bocpd = []\n",
    "        for i in range(N_trial):\n",
    "            X = generate_multiple_changing_mean_gradual(N, sigma=SIGMA, coef=COEF, seed=i)\n",
    "\n",
    "            # BOCPD\n",
    "            bocd = BOCD(partial(constant_hazard, LAMBDA),\n",
    "                        StudentT(ALPHA, BETA, KAPPA, MU), X)\n",
    "            change_points = []\n",
    "            scores = [np.nan] * DELAY\n",
    "            for x in X[:DELAY]:\n",
    "                bocd.update(x)\n",
    "            for x in X[DELAY:]:\n",
    "                bocd.update(x)\n",
    "                if bocd.growth_probs[DELAY] >= THRESHOLD:\n",
    "                    change_points.append(bocd.t - DELAY + 1)\n",
    "                score = np.sum(bocd.growth_probs[:bocd.t - DELAY] * 1.0 / (1.0 + np.arange(1, bocd.t - DELAY + 1)))\n",
    "                scores.append(score)\n",
    "\n",
    "            scores_bocpd.append(scores)\n",
    "\n",
    "        scores_bocpd = np.array(scores_bocpd)\n",
    "        auc_list = calc_auc_average(scores_bocpd)\n",
    "        print('LAMBDA =', LAMBDA, 'THRESHOLD =', THRESHOLD, ':', np.mean(auc_list), '+/-', np.std(auc_list))"
   ]
  },
  {
   "cell_type": "code",
   "execution_count": null,
   "metadata": {},
   "outputs": [],
   "source": []
  },
  {
   "cell_type": "markdown",
   "metadata": {},
   "source": [
    "# Adwin2"
   ]
  },
  {
   "cell_type": "code",
   "execution_count": 9,
   "metadata": {},
   "outputs": [
    {
     "name": "stdout",
     "output_type": "stream",
     "text": [
      "delta = 0.1 : 0.5 +/- 0.0\n",
      "delta = 0.3 : 0.5 +/- 0.0\n",
      "delta = 0.5 : 0.5 +/- 0.0\n",
      "delta = 0.7 : 0.5 +/- 0.0\n",
      "delta = 0.9 : 0.5 +/- 0.0\n"
     ]
    }
   ],
   "source": [
    "M = 5\n",
    "\n",
    "for delta in [0.1, 0.3, 0.5, 0.7, 0.9]:\n",
    "    scores_ad = []\n",
    "    for i in range(N_trial):\n",
    "        X = generate_multiple_changing_mean_gradual(N, sigma=SIGMA, coef=COEF, seed=i)\n",
    "        \n",
    "        # ADWIN2\n",
    "        ad = ADWIN2()\n",
    "        scores = ad.transform(X, delta=delta, M=M)\n",
    "        scores_ad.append(InvRunLen(scores))\n",
    "    scores_ad = np.array(scores_ad)\n",
    "    auc_list = calc_auc_average(scores_ad)\n",
    "    print('delta =', delta, ':', np.mean(auc_list), '+/-', np.std(auc_list))"
   ]
  },
  {
   "cell_type": "code",
   "execution_count": null,
   "metadata": {},
   "outputs": [],
   "source": []
  },
  {
   "cell_type": "markdown",
   "metadata": {},
   "source": [
    "# D-MDL"
   ]
  },
  {
   "cell_type": "code",
   "execution_count": 10,
   "metadata": {},
   "outputs": [],
   "source": [
    "h = 100\n",
    "\n",
    "T = 100\n",
    "mu_max = 50.0\n",
    "sigma_min = 0.005\n",
    "\n",
    "scores_list_0th = []\n",
    "scores_list_1st = []\n",
    "scores_list_2nd = []\n",
    "for i in range(N_trial):\n",
    "    X = generate_multiple_changing_mean_gradual(N, sigma=SIGMA, coef=COEF, seed=i)\n",
    "    len_X = len(X)\n",
    "    \n",
    "    norm1d = Norm1D()\n",
    "    smdl = SMDL(norm1d)\n",
    "\n",
    "    scores_0th = np.array([np.nan]*h + [ smdl.calc_change_score(X[(t-h):(t+h)], h, mu_max=mu_max, sigma_min=sigma_min) \\\n",
    "                                     for t in range(h, len_X-h)] + [np.nan]*h)\n",
    "    scores_list_0th.append(scores_0th)\n",
    "\n",
    "    scores_1st = np.array([np.nan]*h + [ smdl.calc_change_score_1st(X[(t-h):(t+h)], h, mu_max=mu_max, sigma_min=sigma_min) \\\n",
    "                                     for t in range(h, len_X-h)] + [np.nan]*h)\n",
    "    scores_list_1st.append(scores_1st)\n",
    "\n",
    "    scores_2nd = np.array([np.nan]*h + [ smdl.calc_change_score_2nd(X[(t-h):(t+h)], h, mu_max=mu_max, sigma_min=sigma_min) \\\n",
    "                                     for t in range(h, len_X-h)] + [np.nan]*h)\n",
    "    scores_list_2nd.append(scores_2nd)\n",
    "    \n",
    "scores_list_0th = np.array(scores_list_0th)\n",
    "scores_list_1st = np.array(scores_list_1st)\n",
    "scores_list_2nd = np.array(scores_list_2nd)\n",
    "\n",
    "auc_list_0th = calc_auc_average(scores_list_0th, T=T)\n",
    "auc_list_1st = calc_auc_average(scores_list_1st, T=T)\n",
    "auc_list_2nd = calc_auc_average(scores_list_2nd, T=T)"
   ]
  },
  {
   "cell_type": "code",
   "execution_count": 11,
   "metadata": {},
   "outputs": [
    {
     "name": "stdout",
     "output_type": "stream",
     "text": [
      "0.6141580402022175 +/- 0.041135724719713884\n"
     ]
    }
   ],
   "source": [
    "print(np.mean(auc_list_0th), '+/-', np.std(auc_list_0th))"
   ]
  },
  {
   "cell_type": "code",
   "execution_count": 12,
   "metadata": {},
   "outputs": [
    {
     "name": "stdout",
     "output_type": "stream",
     "text": [
      "0.62954090129221417 +/- 0.02024658806676363\n"
     ]
    }
   ],
   "source": [
    "print(np.mean(auc_list_1st), '+/-', np.std(auc_list_1st))"
   ]
  },
  {
   "cell_type": "code",
   "execution_count": 13,
   "metadata": {},
   "outputs": [
    {
     "name": "stdout",
     "output_type": "stream",
     "text": [
      "0.6201857067964913 +/- 0.0033140487836213293\n"
     ]
    }
   ],
   "source": [
    "print(np.mean(auc_list_2nd), '+/-', np.std(auc_list_2nd))"
   ]
  },
  {
   "cell_type": "code",
   "execution_count": null,
   "metadata": {},
   "outputs": [],
   "source": []
  }
 ],
 "metadata": {
  "kernelspec": {
   "display_name": "Python 3",
   "language": "python",
   "name": "python3"
  },
  "language_info": {
   "codemirror_mode": {
    "name": "ipython",
    "version": 3
   },
   "file_extension": ".py",
   "mimetype": "text/x-python",
   "name": "python",
   "nbconvert_exporter": "python",
   "pygments_lexer": "ipython3",
   "version": "3.7.2"
  }
 },
 "nbformat": 4,
 "nbformat_minor": 2
}
