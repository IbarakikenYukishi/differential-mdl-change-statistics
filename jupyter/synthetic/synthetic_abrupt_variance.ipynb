{
 "cells": [
  {
   "cell_type": "code",
   "execution_count": 1,
   "metadata": {},
   "outputs": [],
   "source": [
    "import numpy as np"
   ]
  },
  {
   "cell_type": "code",
   "execution_count": 2,
   "metadata": {},
   "outputs": [],
   "source": [
    "import sys\n",
    "from functools import partial"
   ]
  },
  {
   "cell_type": "code",
   "execution_count": 3,
   "metadata": {},
   "outputs": [],
   "source": [
    "sys.path.append('./adwin')"
   ]
  },
  {
   "cell_type": "code",
   "execution_count": 4,
   "metadata": {},
   "outputs": [],
   "source": [
    "from mdl.smdl import SMDL\n",
    "from mdl.model import Norm1D\n",
    "from cf.mycf import ChangeFinder\n",
    "from bocpd.mybocpd import BOCD, StudentT, constant_hazard\n",
    "from adwin2 import ADWIN2\n",
    "from scaw.SCAW2 import MDLCPStat_adwin2, lnml_gaussian"
   ]
  },
  {
   "cell_type": "code",
   "execution_count": 5,
   "metadata": {},
   "outputs": [],
   "source": [
    "from generate_data import generate_multiple_jumping_variance\n",
    "from evaluation import calc_auc_average, calc_falarms_benefit, InvRunLen"
   ]
  },
  {
   "cell_type": "code",
   "execution_count": 6,
   "metadata": {},
   "outputs": [],
   "source": [
    "###\n",
    "N = 10\n",
    "N_trial = 10\n",
    "\n",
    "MU = 0.0\n",
    "COEF = 0.1\n",
    "\n",
    "# true change points\n",
    "cps_true = np.array([1000, 2000, 3000, 4000, 5000, 6000, 7000, 8000, 9000]) - 1\n",
    "###"
   ]
  },
  {
   "cell_type": "code",
   "execution_count": null,
   "metadata": {},
   "outputs": [],
   "source": []
  },
  {
   "cell_type": "markdown",
   "metadata": {},
   "source": [
    "# ChangeFinder"
   ]
  },
  {
   "cell_type": "code",
   "execution_count": 7,
   "metadata": {},
   "outputs": [
    {
     "name": "stdout",
     "output_type": "stream",
     "text": [
      "r_cf = 0.003 order = 2 : 0.5259301953140862 +/- 0.019861647786869118\n",
      "r_cf = 0.003 order = 3 : 0.5208561176757217 +/- 0.015253502992080661\n",
      "r_cf = 0.003 order = 4 : 0.521349281682706 +/- 0.02280614936837708\n",
      "r_cf = 0.003 order = 5 : 0.5231662907919492 +/- 0.017788128253011282\n",
      "r_cf = 0.005 order = 2 : 0.5485026183321828 +/- 0.026398700251548026\n",
      "r_cf = 0.005 order = 3 : 0.543063286568942 +/- 0.021748270372102856\n",
      "r_cf = 0.005 order = 4 : 0.5380034484508873 +/- 0.023362005412228364\n",
      "r_cf = 0.005 order = 5 : 0.5338636020086356 +/- 0.024469867948782212\n",
      "r_cf = 0.01 order = 2 : 0.5924400906186975 +/- 0.02860451047004226\n",
      "r_cf = 0.01 order = 3 : 0.5855121321449358 +/- 0.025664145722621556\n",
      "r_cf = 0.01 order = 4 : 0.5752152395067744 +/- 0.01861777012025563\n",
      "r_cf = 0.01 order = 5 : 0.5754842491980346 +/- 0.026074727311747804\n",
      "r_cf = 0.03 order = 2 : 0.6079530068623868 +/- 0.022809931605297568\n",
      "r_cf = 0.03 order = 3 : 0.6012264534183348 +/- 0.02072681444166332\n",
      "r_cf = 0.03 order = 4 : 0.6004907696836804 +/- 0.01986676588839791\n",
      "r_cf = 0.03 order = 5 : 0.6020769647812022 +/- 0.0216677456071114\n",
      "r_cf = 0.1 order = 2 : 0.5518892078477552 +/- 0.02340349993024404\n",
      "r_cf = 0.1 order = 3 : 0.5570686531043163 +/- 0.021676298631899994\n",
      "r_cf = 0.1 order = 4 : 0.5491174587512352 +/- 0.018606952289433758\n",
      "r_cf = 0.1 order = 5 : 0.5300149351660102 +/- 0.014873548011840787\n"
     ]
    }
   ],
   "source": [
    "smooth1 = 5\n",
    "smooth2 = 5\n",
    "order = 3\n",
    "\n",
    "for r_cf in [0.003, 0.005, 0.01, 0.03, 0.1]:\n",
    "    for order in [2, 3, 4, 5]:\n",
    "        scores_cf = []\n",
    "        for seed in range(N_trial):\n",
    "            X = generate_multiple_jumping_variance(N, mu=MU, coef=COEF, seed=seed)\n",
    "            # ChangeFinder\n",
    "            cf = ChangeFinder(r=r_cf, order1=order, order2=order, smooth1=smooth1, smooth2=smooth2)\n",
    "\n",
    "            scores = []\n",
    "            for x in X:\n",
    "                score, _ = cf.update(x)\n",
    "                scores.append(score)\n",
    "\n",
    "            scores = np.array(scores)\n",
    "            scores_cf.append(scores)\n",
    "\n",
    "        scores_cf = np.array(scores_cf)\n",
    "        auc_list = calc_auc_average(scores_cf)\n",
    "        print('r_cf =', r_cf, 'order =', order, ':', np.mean(auc_list), '+/-', np.std(auc_list))"
   ]
  },
  {
   "cell_type": "code",
   "execution_count": null,
   "metadata": {},
   "outputs": [],
   "source": []
  },
  {
   "cell_type": "markdown",
   "metadata": {},
   "source": [
    "# BOCPD"
   ]
  },
  {
   "cell_type": "code",
   "execution_count": 8,
   "metadata": {},
   "outputs": [
    {
     "name": "stdout",
     "output_type": "stream",
     "text": [
      "LAMBDA = 100 THRESHOLD = 0.1 : 0.5742465416006823 +/- 0.022188508154366172\n",
      "LAMBDA = 100 THRESHOLD = 0.3 : 0.5742465416006823 +/- 0.022188508154366172\n",
      "LAMBDA = 600 THRESHOLD = 0.1 : 0.5281963189453311 +/- 0.035787437447743084\n",
      "LAMBDA = 600 THRESHOLD = 0.3 : 0.5281963189453311 +/- 0.035787437447743084\n"
     ]
    }
   ],
   "source": [
    "ALPHA = 0.1\n",
    "BETA = 1.0\n",
    "KAPPA = 1.0\n",
    "MU = 0.0\n",
    "DELAY = 15\n",
    "\n",
    "mu = 0.0\n",
    "\n",
    "for LAMBDA in [100, 600]:\n",
    "    for THRESHOLD in [0.1, 0.3]:\n",
    "        scores_bocpd = []\n",
    "        for seed in range(N_trial):\n",
    "            X = generate_multiple_jumping_variance(N, mu=MU, coef=COEF, seed=seed)\n",
    "\n",
    "            # BOCPD\n",
    "            bocd = BOCD(partial(constant_hazard, LAMBDA),\n",
    "                        StudentT(ALPHA, BETA, KAPPA, MU), X)\n",
    "            change_points = []\n",
    "            scores = [np.nan] * DELAY\n",
    "            for x in X[:DELAY]:\n",
    "                bocd.update(x)\n",
    "            for x in X[DELAY:]:\n",
    "                bocd.update(x)\n",
    "                if bocd.growth_probs[DELAY] >= THRESHOLD:\n",
    "                    change_points.append(bocd.t - DELAY + 1)\n",
    "                score = np.sum(bocd.growth_probs[:bocd.t - DELAY] * 1.0 / (1.0 + np.arange(1, bocd.t - DELAY + 1)))\n",
    "                scores.append(score)\n",
    "\n",
    "            scores_bocpd.append(scores)\n",
    "\n",
    "        scores_bocpd = np.array(scores_bocpd)\n",
    "        auc_list = calc_auc_average(scores_bocpd)\n",
    "        print('LAMBDA =', LAMBDA, 'THRESHOLD =', THRESHOLD, ':', np.mean(auc_list), '+/-', np.std(auc_list))"
   ]
  },
  {
   "cell_type": "code",
   "execution_count": null,
   "metadata": {},
   "outputs": [],
   "source": []
  },
  {
   "cell_type": "markdown",
   "metadata": {},
   "source": [
    "# Adwin2"
   ]
  },
  {
   "cell_type": "code",
   "execution_count": 9,
   "metadata": {},
   "outputs": [
    {
     "name": "stdout",
     "output_type": "stream",
     "text": [
      "delta = 0.1 : 0.44336488197236096 +/- 0.03646385471425184\n",
      "delta = 0.3 : 0.4454841466006146 +/- 0.06746461457119995\n",
      "delta = 0.5 : 0.49803839390371 +/- 0.06684629117401505\n",
      "delta = 0.7 : 0.49202223440397386 +/- 0.05820238089213481\n",
      "delta = 0.9 : 0.5224774520512716 +/- 0.03845013268912315\n"
     ]
    }
   ],
   "source": [
    "M = 5\n",
    "\n",
    "for delta in [0.1, 0.3, 0.5, 0.7, 0.9]:\n",
    "    scores_ad = []\n",
    "    for seed in range(N_trial):\n",
    "        X = generate_multiple_jumping_variance(N, mu=MU, coef=COEF, seed=seed)\n",
    "        \n",
    "        ad = ADWIN2()\n",
    "        scores = ad.transform(X, delta=delta, M=M)\n",
    "        scores_ad.append(InvRunLen(scores))\n",
    "    scores_ad = np.array(scores_ad)\n",
    "    auc_list = calc_auc_average(scores_ad)\n",
    "    print('delta =', delta, ':', np.mean(auc_list), '+/-', np.std(auc_list))"
   ]
  },
  {
   "cell_type": "code",
   "execution_count": null,
   "metadata": {},
   "outputs": [],
   "source": []
  },
  {
   "cell_type": "markdown",
   "metadata": {},
   "source": [
    "# D-MDL"
   ]
  },
  {
   "cell_type": "code",
   "execution_count": 10,
   "metadata": {},
   "source": [
    "h = 100\n",
    "\n",
    "mu_max = 5.0\n",
    "sigma_min = 0.005\n",
    "\n",
    "scores_list_0th = []\n",
    "scores_list_1st = []\n",
    "scores_list_2nd = []\n",
    "\n",
    "for i in range(N_trial):\n",
    "    X = generate_multiple_jumping_variance(N, mu=MU, coef=COEF, seed=i)\n",
    "    len_X = len(X)\n",
    "\n",
    "    norm1d = Norm1D()\n",
    "    smdl = SMDL(norm1d)\n",
    "    scores_0th = np.array([np.nan]*h + [ smdl.calc_change_score(X[(t-h):(t+h)], h, mu_max=mu_max, sigma_min=sigma_min) \\\n",
    "                                     for t in range(h, len_X-h)] + [np.nan]*h)    \n",
    "    scores_list_0th.append(scores_0th)\n",
    "\n",
    "    norm1d = Norm1D()\n",
    "    smdl = SMDL(norm1d)\n",
    "    scores_1st = np.array([np.nan]*h + [ smdl.calc_change_score_1st(X[(t-h):(t+h)], h, mu_max=mu_max, sigma_min=sigma_min) \\\n",
    "                                     for t in range(h, len_X-h)] + [np.nan]*h)\n",
    "    scores_list_1st.append(scores_1st)\n",
    "\n",
    "    norm1d = Norm1D()\n",
    "    smdl = SMDL(norm1d)\n",
    "    scores_2nd = np.array([np.nan]*h + [ smdl.calc_change_score_2nd(X[(t-h):(t+h)], h, mu_max=mu_max, sigma_min=sigma_min) \\\n",
    "                                     for t in range(h, len_X-h)] + [np.nan]*h)\n",
    "    scores_list_2nd.append(scores_2nd)\n",
    "    \n",
    "scores_list_0th = np.array(scores_list_0th)\n",
    "scores_list_1st = np.array(scores_list_1st)\n",
    "scores_list_2nd = np.array(scores_list_2nd)\n",
    "    \n",
    "auc_list_0th = calc_auc_average(scores_list_0th)\n",
    "auc_list_1st = calc_auc_average(scores_list_1st)\n",
    "auc_list_2nd = calc_auc_average(scores_list_2nd)"
   ]
  },
  {
   "cell_type": "code",
   "execution_count": 11,
   "metadata": {},
   "outputs": [
    {
     "name": "stdout",
     "output_type": "stream",
     "text": [
      "0.8249345674124605 +/- 0.031398155753491745\n"
     ]
    }
   ],
   "source": [
    "print(np.mean(auc_list_0th), '+/-', np.std(auc_list_0th))"
   ]
  },
  {
   "cell_type": "code",
   "execution_count": 12,
   "metadata": {},
   "outputs": [
    {
     "name": "stdout",
     "output_type": "stream",
     "text": [
      "0.27228625911939464 +/- 0.015672714873395825\n"
     ]
    }
   ],
   "source": [
    "print(np.mean(auc_list_1st), '+/-', np.std(auc_list_1st))"
   ]
  },
  {
   "cell_type": "code",
   "execution_count": 13,
   "metadata": {},
   "outputs": [
    {
     "name": "stdout",
     "output_type": "stream",
     "text": [
      "0.48599491831458697 +/- 0.0037169810067321034\n"
     ]
    }
   ],
   "source": [
    "print(np.mean(auc_list_2nd), '+/-', np.std(auc_list_2nd))"
   ]
  },
  {
   "cell_type": "code",
   "execution_count": null,
   "metadata": {},
   "outputs": [],
   "source": []
  }
 ],
 "metadata": {
  "kernelspec": {
   "display_name": "Python 3",
   "language": "python",
   "name": "python3"
  },
  "language_info": {
   "codemirror_mode": {
    "name": "ipython",
    "version": 3
   },
   "file_extension": ".py",
   "mimetype": "text/x-python",
   "name": "python",
   "nbconvert_exporter": "python",
   "pygments_lexer": "ipython3",
   "version": "3.7.2"
  }
 },
 "nbformat": 4,
 "nbformat_minor": 2
}
