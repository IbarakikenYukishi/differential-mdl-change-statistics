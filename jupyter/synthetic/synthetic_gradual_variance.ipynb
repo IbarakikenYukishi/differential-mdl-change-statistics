{
 "cells": [
  {
   "cell_type": "code",
   "execution_count": 1,
   "metadata": {},
   "outputs": [],
   "source": [
    "import numpy as np"
   ]
  },
  {
   "cell_type": "code",
   "execution_count": 2,
   "metadata": {},
   "outputs": [],
   "source": [
    "import sys\n",
    "import tqdm\n",
    "from functools import partial"
   ]
  },
  {
   "cell_type": "code",
   "execution_count": 3,
   "metadata": {},
   "outputs": [],
   "source": [
    "sys.path.append('./adwin')"
   ]
  },
  {
   "cell_type": "code",
   "execution_count": 4,
   "metadata": {},
   "outputs": [],
   "source": [
    "from mdl.smdl import SMDL\n",
    "from mdl.model import Norm1D"
   ]
  },
  {
   "cell_type": "code",
   "execution_count": 5,
   "metadata": {},
   "outputs": [],
   "source": [
    "from cf.mycf import ChangeFinder\n",
    "from bocpd.mybocpd import BOCD, StudentT, constant_hazard\n",
    "from adwin2 import ADWIN2\n",
    "from scaw.SCAW2 import MDLCPStat_adwin2, lnml_gaussian"
   ]
  },
  {
   "cell_type": "code",
   "execution_count": 6,
   "metadata": {},
   "outputs": [],
   "source": [
    "from generate_data import generate_multiple_changing_variance_gradual\n",
    "from evaluation import calc_auc_average, calc_falarms_benefit, InvRunLen"
   ]
  },
  {
   "cell_type": "code",
   "execution_count": 7,
   "metadata": {},
   "outputs": [],
   "source": [
    "###\n",
    "N = 10\n",
    "N_trial = 10\n",
    "\n",
    "MU = 0.0\n",
    "COEF = 0.1\n",
    "\n",
    "# true change points\n",
    "cps_true = np.array([1000, 2000, 3000, 4000, 5000, 6000, 7000, 8000, 9000]) - 1\n",
    "###"
   ]
  },
  {
   "cell_type": "code",
   "execution_count": null,
   "metadata": {},
   "outputs": [],
   "source": []
  },
  {
   "cell_type": "markdown",
   "metadata": {},
   "source": [
    "# ChangeFinder"
   ]
  },
  {
   "cell_type": "code",
   "execution_count": 8,
   "metadata": {},
   "outputs": [
    {
     "name": "stdout",
     "output_type": "stream",
     "text": [
      "r_cf = 0.003 order = 2 : 0.3588160335539584 +/- 0.021862169409808282\n",
      "r_cf = 0.003 order = 3 : 0.36907323208944115 +/- 0.03716784309142366\n",
      "r_cf = 0.003 order = 4 : 0.39738354258875763 +/- 0.05534339319434691\n",
      "r_cf = 0.003 order = 5 : 0.38389628185866465 +/- 0.017641298011712485\n",
      "r_cf = 0.005 order = 2 : 0.3725131799786142 +/- 0.028439584661411676\n",
      "r_cf = 0.005 order = 3 : 0.37724411804117436 +/- 0.022172217403366144\n",
      "r_cf = 0.005 order = 4 : 0.3931310202893843 +/- 0.0415232843301209\n",
      "r_cf = 0.005 order = 5 : 0.3780620944491818 +/- 0.021947881068372532\n",
      "r_cf = 0.01 order = 2 : 0.44212402952044505 +/- 0.027345231453297758\n",
      "r_cf = 0.01 order = 3 : 0.43118068738918 +/- 0.026780457663995474\n",
      "r_cf = 0.01 order = 4 : 0.42303561734410744 +/- 0.02434513759163914\n",
      "r_cf = 0.01 order = 5 : 0.4214076880388734 +/- 0.031062272894974402\n",
      "r_cf = 0.03 order = 2 : 0.49452625153963814 +/- 0.025011122851040752\n",
      "r_cf = 0.03 order = 3 : 0.4871535309484171 +/- 0.02378250350822708\n",
      "r_cf = 0.03 order = 4 : 0.4851896072738594 +/- 0.028921058561023078\n",
      "r_cf = 0.03 order = 5 : 0.4823325528891054 +/- 0.027904348070326473\n",
      "r_cf = 0.1 order = 2 : 0.4988142361364898 +/- 0.023387287673287342\n",
      "r_cf = 0.1 order = 3 : 0.5000842412122196 +/- 0.025331114969383176\n",
      "r_cf = 0.1 order = 4 : 0.5058138636455922 +/- 0.02684604141055159\n",
      "r_cf = 0.1 order = 5 : 0.5058301216821646 +/- 0.018274617372692273\n"
     ]
    }
   ],
   "source": [
    "smooth1 = 5\n",
    "smooth2 = 5\n",
    "order = 3\n",
    "\n",
    "for r_cf in [0.003, 0.005, 0.01, 0.03, 0.1]:\n",
    "    for order in [2, 3, 4, 5]:\n",
    "        scores_cf = []\n",
    "        for i in range(N_trial):\n",
    "            X = generate_multiple_changing_variance_gradual(N, mu=MU, coef=COEF, seed=i)\n",
    "            # ChangeFinder\n",
    "            cf = ChangeFinder(r=r_cf, order1=order, order2=order, smooth1=smooth1, smooth2=smooth2)\n",
    "\n",
    "            scores = []\n",
    "            for x in X:\n",
    "                score, _ = cf.update(x)\n",
    "                scores.append(score)\n",
    "\n",
    "            scores = np.array(scores)\n",
    "            scores_cf.append(scores)\n",
    "\n",
    "        scores_cf = np.array(scores_cf)\n",
    "        auc_list = calc_auc_average(scores_cf)\n",
    "        print('r_cf =', r_cf, 'order =', order, ':', np.mean(auc_list), '+/-', np.std(auc_list))"
   ]
  },
  {
   "cell_type": "code",
   "execution_count": null,
   "metadata": {},
   "outputs": [],
   "source": []
  },
  {
   "cell_type": "markdown",
   "metadata": {},
   "source": [
    "# BOCPD"
   ]
  },
  {
   "cell_type": "code",
   "execution_count": 9,
   "metadata": {},
   "outputs": [
    {
     "name": "stdout",
     "output_type": "stream",
     "text": [
      "LAMBDA = 100 THRESHOLD = 0.1 : 0.35356437047414085 +/- 0.02854168209338144\n",
      "LAMBDA = 100 THRESHOLD = 0.3 : 0.35356437047414085 +/- 0.02854168209338144\n",
      "LAMBDA = 600 THRESHOLD = 0.1 : 0.26926449438962663 +/- 0.03230963872835837\n",
      "LAMBDA = 600 THRESHOLD = 0.3 : 0.26926449438962663 +/- 0.03230963872835837\n"
     ]
    }
   ],
   "source": [
    "ALPHA = 0.1\n",
    "BETA = 1.0\n",
    "KAPPA = 1.0\n",
    "MU = 0.0\n",
    "DELAY = 15\n",
    "\n",
    "for LAMBDA in [100, 600]:\n",
    "    for THRESHOLD in [0.1, 0.3]:\n",
    "        scores_bocpd = []\n",
    "        for i in range(N_trial):\n",
    "            X = generate_multiple_changing_variance_gradual(N, mu=MU, coef=COEF, seed=i)\n",
    "\n",
    "            # BOCPD\n",
    "            bocd = BOCD(partial(constant_hazard, LAMBDA),\n",
    "                        StudentT(ALPHA, BETA, KAPPA, MU), X)\n",
    "            change_points = []\n",
    "            scores = [np.nan] * DELAY\n",
    "            for x in X[:DELAY]:\n",
    "                bocd.update(x)\n",
    "            for x in X[DELAY:]:\n",
    "                bocd.update(x)\n",
    "                if bocd.growth_probs[DELAY] >= THRESHOLD:\n",
    "                    change_points.append(bocd.t - DELAY + 1)\n",
    "                score = np.sum(bocd.growth_probs[:bocd.t - DELAY] * 1.0 / (1.0 + np.arange(1, bocd.t - DELAY + 1)))\n",
    "                scores.append(score)\n",
    "\n",
    "            scores_bocpd.append(scores)\n",
    "\n",
    "        scores_bocpd = np.array(scores_bocpd)\n",
    "        auc_list = calc_auc_average(scores_bocpd)\n",
    "        print('LAMBDA =', LAMBDA, 'THRESHOLD =', THRESHOLD, ':', np.mean(auc_list), '+/-', np.std(auc_list))"
   ]
  },
  {
   "cell_type": "code",
   "execution_count": null,
   "metadata": {},
   "outputs": [],
   "source": []
  },
  {
   "cell_type": "markdown",
   "metadata": {},
   "source": [
    "# Adwin2"
   ]
  },
  {
   "cell_type": "code",
   "execution_count": 10,
   "metadata": {},
   "outputs": [
    {
     "name": "stdout",
     "output_type": "stream",
     "text": [
      "delta = 0.1 : 0.4575565472854996 +/- 0.024199813167372623\n",
      "delta = 0.3 : 0.42130511660643466 +/- 0.030227476504685453\n",
      "delta = 0.5 : 0.41841422706785236 +/- 0.05946546497336983\n",
      "delta = 0.7 : 0.41716880821862184 +/- 0.05391695071609595\n",
      "delta = 0.9 : 0.4309244859977531 +/- 0.04081560124500086\n"
     ]
    }
   ],
   "source": [
    "M = 5\n",
    "\n",
    "for delta in [0.1, 0.3, 0.5, 0.7, 0.9]:\n",
    "    scores_ad = []\n",
    "    for i in range(N_trial):\n",
    "        X = generate_multiple_changing_variance_gradual(N, mu=MU, coef=COEF, seed=i)\n",
    "        \n",
    "        ad = ADWIN2()\n",
    "        scores = ad.transform(X, delta=delta, M=M)\n",
    "        scores_ad.append(InvRunLen(scores))\n",
    "    scores_ad = np.array(scores_ad)\n",
    "    auc_list = calc_auc_average(scores_ad)\n",
    "    print('delta =', delta, ':', np.mean(auc_list), '+/-', np.std(auc_list))"
   ]
  },
  {
   "cell_type": "code",
   "execution_count": null,
   "metadata": {},
   "outputs": [],
   "source": []
  },
  {
   "cell_type": "markdown",
   "metadata": {},
   "source": [
    "# D-MDL"
   ]
  },
  {
   "cell_type": "code",
   "execution_count": 11,
   "metadata": {},
   "outputs": [],
   "source": [
    "h = 100\n",
    "T = 100\n",
    "\n",
    "mu_max = 20.0\n",
    "sigma_min = 0.005\n",
    "\n",
    "scores_list_0th = []\n",
    "scores_list_1st = []\n",
    "scores_list_2nd = []\n",
    "\n",
    "for i in range(N_trial):\n",
    "    X = generate_multiple_changing_variance_gradual(N, mu=MU, coef=COEF, seed=i)\n",
    "    len_X = len(X)\n",
    "    \n",
    "    norm1d = Norm1D()\n",
    "    smdl = SMDL(norm1d)\n",
    "\n",
    "    scores_0th = np.array([np.nan]*h + [ smdl.calc_change_score(X[(t-h):(t+h)], h, mu_max=mu_max, sigma_min=sigma_min) \\\n",
    "                                     for t in range(h, len_X-h)] + [np.nan]*h)\n",
    "    scores_list_0th.append(scores_0th)\n",
    "\n",
    "    norm1d = Norm1D()\n",
    "    smdl = SMDL(norm1d)\n",
    "\n",
    "    scores_1st = np.array([np.nan]*h + [ smdl.calc_change_score_1st(X[(t-h):(t+h)], h, mu_max=mu_max, sigma_min=sigma_min) \\\n",
    "                                    for t in range(h, len_X-h)] + [np.nan]*h)\n",
    "    scores_list_1st.append(scores_1st)\n",
    "\n",
    "    norm1d = Norm1D()\n",
    "    smdl = SMDL(norm1d)\n",
    "\n",
    "    scores_2nd = np.array([np.nan]*h + [ smdl.calc_change_score_2nd(X[(t-h):(t+h)], h, mu_max=mu_max, sigma_min=sigma_min) \\\n",
    "                                    for t in range(h, len_X-h)] + [np.nan]*h)\n",
    "    scores_list_2nd.append(scores_2nd)\n",
    "\n",
    "scores_list_0th = np.array(scores_list_0th)\n",
    "scores_list_1st = np.array(scores_list_1st)\n",
    "scores_list_2nd = np.array(scores_list_2nd)\n",
    "\n",
    "auc_list_0th = calc_auc_average(scores_list_0th, T=T)\n",
    "auc_list_1st = calc_auc_average(scores_list_1st, T=T)\n",
    "auc_list_2nd = calc_auc_average(scores_list_2nd, T=T)"
   ]
  },
  {
   "cell_type": "code",
   "execution_count": 12,
   "metadata": {},
   "outputs": [
    {
     "name": "stdout",
     "output_type": "stream",
     "text": [
      "0.52135782095532 +/- 0.05020986529447889\n"
     ]
    }
   ],
   "source": [
    "print(np.mean(auc_list_0th), '+/-', np.std(auc_list_0th))"
   ]
  },
  {
   "cell_type": "code",
   "execution_count": 13,
   "metadata": {},
   "outputs": [
    {
     "name": "stdout",
     "output_type": "stream",
     "text": [
      "0.532604917976205 +/- 0.022715836855180884\n"
     ]
    }
   ],
   "source": [
    "print(np.mean(auc_list_1st), '+/-', np.std(auc_list_1st))"
   ]
  },
  {
   "cell_type": "code",
   "execution_count": 14,
   "metadata": {},
   "outputs": [
    {
     "name": "stdout",
     "output_type": "stream",
     "text": [
      "0.5261295957011952 +/- 0.003088247642948327\n"
     ]
    }
   ],
   "source": [
    "print(np.mean(auc_list_2nd), '+/-', np.std(auc_list_2nd))"
   ]
  },
  {
   "cell_type": "code",
   "execution_count": null,
   "metadata": {},
   "outputs": [],
   "source": []
  }
 ],
 "metadata": {
  "kernelspec": {
   "display_name": "Python 3",
   "language": "python",
   "name": "python3"
  },
  "language_info": {
   "codemirror_mode": {
    "name": "ipython",
    "version": 3
   },
   "file_extension": ".py",
   "mimetype": "text/x-python",
   "name": "python",
   "nbconvert_exporter": "python",
   "pygments_lexer": "ipython3",
   "version": "3.7.2"
  }
 },
 "nbformat": 4,
 "nbformat_minor": 2
}
