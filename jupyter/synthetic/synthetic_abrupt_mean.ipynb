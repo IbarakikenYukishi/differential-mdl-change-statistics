{
 "cells": [
  {
   "cell_type": "code",
   "execution_count": 1,
   "metadata": {},
   "outputs": [],
   "source": [
    "import numpy as np"
   ]
  },
  {
   "cell_type": "code",
   "execution_count": 2,
   "metadata": {},
   "outputs": [],
   "source": [
    "import sys\n",
    "import tqdm\n",
    "from functools import partial"
   ]
  },
  {
   "cell_type": "code",
   "execution_count": 3,
   "metadata": {},
   "outputs": [],
   "source": [
    "sys.path.append('./adwin')"
   ]
  },
  {
   "cell_type": "code",
   "execution_count": 4,
   "metadata": {},
   "outputs": [],
   "source": [
    "from mdl.smdl import SMDL\n",
    "from mdl.model import Norm1D\n",
    "from cf.mycf import ChangeFinder\n",
    "from bocpd.mybocpd import BOCD, StudentT, constant_hazard\n",
    "from adwin2 import ADWIN2\n",
    "from scaw.SCAW2 import MDLCPStat_adwin2, lnml_gaussian\n",
    "\n"
   ]
  },
  {
   "cell_type": "code",
   "execution_count": 5,
   "metadata": {},
   "outputs": [],
   "source": [
    "from generate_data import generate_multiple_jumping_mean\n",
    "from evaluation import calc_auc_average, calc_falarms_benefit, InvRunLen"
   ]
  },
  {
   "cell_type": "code",
   "execution_count": 6,
   "metadata": {},
   "outputs": [],
   "source": [
    "###\n",
    "N = 10\n",
    "N_trial = 10\n",
    "\n",
    "SIGMA = 1.0\n",
    "COEF = 0.3\n",
    "\n",
    "# true change points\n",
    "cps_true = np.array([1000, 2000, 3000, 4000, 5000, 6000, 7000, 8000, 9000]) - 1\n",
    "###"
   ]
  },
  {
   "cell_type": "markdown",
   "metadata": {},
   "source": [
    "# ChangeFinder"
   ]
  },
  {
   "cell_type": "code",
   "execution_count": 7,
   "metadata": {},
   "outputs": [
    {
     "name": "stdout",
     "output_type": "stream",
     "text": [
      "r_cf = 0.003 order = 2 : 0.5558215762961354 +/- 0.02538578200807747\n",
      "r_cf = 0.003 order = 3 : 0.5442470916736044 +/- 0.025292378536008027\n",
      "r_cf = 0.003 order = 4 : 0.5341158158685344 +/- 0.016515392799971388\n",
      "r_cf = 0.003 order = 5 : 0.5257798191986099 +/- 0.01880280276161836\n",
      "r_cf = 0.005 order = 2 : 0.5844636948154582 +/- 0.02733408821125516\n",
      "r_cf = 0.005 order = 3 : 0.5744368591112559 +/- 0.028266369976654184\n",
      "r_cf = 0.005 order = 4 : 0.5546243330196305 +/- 0.024249462289011384\n",
      "r_cf = 0.005 order = 5 : 0.5516896789975989 +/- 0.028717226343280524\n",
      "r_cf = 0.01 order = 2 : 0.5910699974059194 +/- 0.030588508391432397\n",
      "r_cf = 0.01 order = 3 : 0.5799941338183662 +/- 0.031207960399719677\n",
      "r_cf = 0.01 order = 4 : 0.5625601073225468 +/- 0.03277674080676222\n",
      "r_cf = 0.01 order = 5 : 0.5628022134747409 +/- 0.03187343809542562\n",
      "r_cf = 0.03 order = 2 : 0.5504029900701004 +/- 0.02307688774853607\n",
      "r_cf = 0.03 order = 3 : 0.54285791984894 +/- 0.019631864408267363\n",
      "r_cf = 0.03 order = 4 : 0.5386739986848614 +/- 0.019364229306156795\n",
      "r_cf = 0.03 order = 5 : 0.5423112437108625 +/- 0.023237832621685762\n",
      "r_cf = 0.1 order = 2 : 0.5110317714554602 +/- 0.022865155969663317\n",
      "r_cf = 0.1 order = 3 : 0.5179094371448221 +/- 0.024428293068606808\n",
      "r_cf = 0.1 order = 4 : 0.5037104989080731 +/- 0.02201989929140275\n",
      "r_cf = 0.1 order = 5 : 0.47166441355678634 +/- 0.013731418039730617\n"
     ]
    }
   ],
   "source": [
    "smooth1 = 5\n",
    "smooth2 = 5\n",
    "\n",
    "for r_cf in [0.003, 0.005, 0.01, 0.03, 0.1]:\n",
    "    for order in [2, 3, 4, 5]:\n",
    "        scores_cf = []\n",
    "        for seed in range(N_trial):\n",
    "            X = generate_multiple_jumping_mean(N, sigma=SIGMA, coef=COEF, seed=seed)\n",
    "            # ChangeFinder\n",
    "            cf = ChangeFinder(r=r_cf, order1=order, order2=order, smooth1=smooth1, smooth2=smooth2)\n",
    "\n",
    "            scores = []\n",
    "            for x in X:\n",
    "                score, _ = cf.update(x)\n",
    "                scores.append(score)\n",
    "\n",
    "            scores = np.array(scores)\n",
    "            scores_cf.append(scores)\n",
    "\n",
    "        scores_cf = np.array(scores_cf)\n",
    "        auc_list = calc_auc_average(scores_cf)\n",
    "        print('r_cf =', r_cf, 'order =', order, ':', np.mean(auc_list), '+/-', np.std(auc_list))"
   ]
  },
  {
   "cell_type": "markdown",
   "metadata": {},
   "source": [
    "# BOCPD"
   ]
  },
  {
   "cell_type": "code",
   "execution_count": 8,
   "metadata": {},
   "outputs": [
    {
     "name": "stdout",
     "output_type": "stream",
     "text": [
      "LAMBDA = 100 THRESHOLD = 0.1 : 0.5457161372932278 +/- 0.05930877791777235\n",
      "LAMBDA = 100 THRESHOLD = 0.3 : 0.5457161372932278 +/- 0.05930877791777235\n",
      "LAMBDA = 600 THRESHOLD = 0.1 : 0.5147292057890229 +/- 0.0684109465949315\n",
      "LAMBDA = 600 THRESHOLD = 0.3 : 0.5147292057890229 +/- 0.0684109465949315\n"
     ]
    }
   ],
   "source": [
    "ALPHA = 0.1\n",
    "BETA = 1.0\n",
    "KAPPA = 1.0\n",
    "MU = 0.0\n",
    "DELAY = 15\n",
    "\n",
    "for LAMBDA in [100, 600]:\n",
    "    for THRESHOLD in [0.1, 0.3]:\n",
    "        scores_bocpd = []\n",
    "        for seed in range(N_trial):\n",
    "            X = generate_multiple_jumping_mean(N, sigma=SIGMA, coef=COEF, seed=seed)\n",
    "\n",
    "            # BOCPD\n",
    "            bocd = BOCD(partial(constant_hazard, LAMBDA),\n",
    "                        StudentT(ALPHA, BETA, KAPPA, MU), X)\n",
    "            change_points = []\n",
    "            scores = [np.nan] * DELAY\n",
    "            for x in X[:DELAY]:\n",
    "                bocd.update(x)\n",
    "            for x in X[DELAY:]:\n",
    "                bocd.update(x)\n",
    "                if bocd.growth_probs[DELAY] >= THRESHOLD:\n",
    "                    change_points.append(bocd.t - DELAY + 1)\n",
    "                score = np.sum(bocd.growth_probs[:bocd.t - DELAY] * 1.0 / (1.0 + np.arange(1, bocd.t - DELAY + 1)))\n",
    "                scores.append(score)\n",
    "\n",
    "            scores_bocpd.append(scores)\n",
    "\n",
    "        scores_bocpd = np.array(scores_bocpd)\n",
    "        auc_list = calc_auc_average(scores_bocpd)\n",
    "        print('LAMBDA =', LAMBDA, 'THRESHOLD =', THRESHOLD, ':', np.mean(auc_list), '+/-', np.std(auc_list))"
   ]
  },
  {
   "cell_type": "markdown",
   "metadata": {},
   "source": [
    "# Adwin2"
   ]
  },
  {
   "cell_type": "code",
   "execution_count": 9,
   "metadata": {},
   "outputs": [
    {
     "name": "stdout",
     "output_type": "stream",
     "text": [
      "delta = 0.1 : 0.5 +/- 0.0\n"
     ]
    },
    {
     "name": "stdout",
     "output_type": "stream",
     "text": [
      "delta = 0.3 : 0.5 +/- 0.0\n"
     ]
    },
    {
     "name": "stdout",
     "output_type": "stream",
     "text": [
      "delta = 0.5 : 0.5 +/- 0.0\n"
     ]
    },
    {
     "name": "stdout",
     "output_type": "stream",
     "text": [
      "delta = 0.7 : 0.5 +/- 0.0\n"
     ]
    },
    {
     "name": "stdout",
     "output_type": "stream",
     "text": [
      "delta = 0.9 : 0.5 +/- 0.0\n"
     ]
    }
   ],
   "source": [
    "M = 5\n",
    "\n",
    "for delta in [0.1, 0.3, 0.5, 0.7, 0.9]:\n",
    "    scores_ad = []\n",
    "    for seed in tqdm.tqdm(range(10)):\n",
    "        X = generate_multiple_jumping_mean(N, sigma=SIGMA, coef=COEF, seed=seed)\n",
    "        \n",
    "        ad = ADWIN2()\n",
    "        scores = ad.transform(X, delta=delta, M=M)\n",
    "        scores_ad.append(InvRunLen(scores))\n",
    "    \n",
    "    scores_ad = np.array(scores_ad)\n",
    "    auc_list = calc_auc_average(scores_ad)\n",
    "    print('delta =', delta, ':', np.mean(auc_list), '+/-', np.std(auc_list))"
   ]
  },
  {
   "cell_type": "markdown",
   "metadata": {},
   "source": [
    "# D-MDL"
   ]
  },
  {
   "cell_type": "code",
   "execution_count": 10,
   "metadata": {},
   "source": [
    "N = 10000\n",
    "N_trial = 10\n",
    "h = 100\n",
    "\n",
    "mu_max = 50.0\n",
    "sigma_min = 0.005\n",
    "\n",
    "scores_list_0th = []\n",
    "scores_list_1st = []\n",
    "scores_list_2nd = []\n",
    "\n",
    "for i in tqdm.tqdm(range(N_trial)):\n",
    "    X = generate_multiple_jumping_mean(N, sigma=SIGMA, coef=COEF, seed=i)\n",
    "    len_X = len(X)\n",
    "\n",
    "    norm1d = Norm1D()\n",
    "    smdl = SMDL(norm1d)\n",
    "    scores_0th = np.array([np.nan]*h + [ smdl.calc_change_score(X[(t-h):(t+h)], h, mu_max=mu_max, sigma_min=sigma_min) \\\n",
    "                                     for t in range(h, len_X-h)] + [np.nan]*h)    \n",
    "    scores_list_0th.append(scores_0th)\n",
    "    \n",
    "    scores_1st = np.array([np.nan]*h + [ smdl.calc_change_score_1st(X[(t-h):(t+h)], h, mu_max=mu_max, sigma_min=sigma_min) \\\n",
    "                                     for t in range(h, len_X-h)] + [np.nan]*h)\n",
    "    scores_list_1st.append(scores_1st)\n",
    "\n",
    "    scores_2nd = np.array([np.nan]*h + [ smdl.calc_change_score_2nd(X[(t-h):(t+h)], h, mu_max=mu_max, sigma_min=sigma_min) \\\n",
    "                                     for t in range(h, len_X-h)] + [np.nan]*h)\n",
    "    scores_list_2nd.append(scores_2nd)\n",
    "\n",
    "scores_list_0th = np.array(scores_list_0th)\n",
    "scores_list_1st = np.array(scores_list_1st)\n",
    "scores_list_2nd = np.array(scores_list_2nd)\n",
    "    \n",
    "auc_list_0th = calc_auc_average(scores_list_0th)\n",
    "auc_list_1st = calc_auc_average(scores_list_1st)\n",
    "auc_list_2nd = calc_auc_average(scores_list_2nd)"
   ]
  },
  {
   "cell_type": "code",
   "execution_count": 11,
   "metadata": {},
   "outputs": [
    {
     "name": "stdout",
     "output_type": "stream",
     "text": [
      "0.9176773107429514 +/- 0.015557969842061403\n"
     ]
    }
   ],
   "source": [
    "print(np.mean(auc_list_0th), '+/-', np.std(auc_list_0th))"
   ]
  },
  {
   "cell_type": "code",
   "execution_count": 12,
   "metadata": {},
   "outputs": [
    {
     "name": "stdout",
     "output_type": "stream",
     "text": [
      "0.48030241306966615 +/- 0.005961253114240665\n"
     ]
    }
   ],
   "source": [
    "print(np.mean(auc_list_1st), '+/-', np.std(auc_list_1st))"
   ]
  },
  {
   "cell_type": "code",
   "execution_count": 13,
   "metadata": {},
   "outputs": [
    {
     "name": "stdout",
     "output_type": "stream",
     "text": [
      "0.4941661155777533 +/- 0.006009435037222007\n"
     ]
    }
   ],
   "source": [
    "print(np.mean(auc_list_2nd), '+/-', np.std(auc_list_2nd))"
   ]
  },
  {
   "cell_type": "code",
   "execution_count": null,
   "metadata": {},
   "outputs": [],
   "source": []
  }
 ],
 "metadata": {
  "kernelspec": {
   "display_name": "Python 3",
   "language": "python",
   "name": "python3"
  },
  "language_info": {
   "codemirror_mode": {
    "name": "ipython",
    "version": 3
   },
   "file_extension": ".py",
   "mimetype": "text/x-python",
   "name": "python",
   "nbconvert_exporter": "python",
   "pygments_lexer": "ipython3",
   "version": "3.7.2"
  }
 },
 "nbformat": 4,
 "nbformat_minor": 2
}
